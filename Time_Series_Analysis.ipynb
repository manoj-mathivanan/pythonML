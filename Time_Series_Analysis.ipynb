{
  "cells": [
    {
      "cell_type": "markdown",
      "metadata": {
        "id": "view-in-github",
        "colab_type": "text"
      },
      "source": [
        "<a href=\"https://colab.research.google.com/github/manoj-mathivanan/pythonML/blob/main/Time_Series_Analysis.ipynb\" target=\"_parent\"><img src=\"https://colab.research.google.com/assets/colab-badge.svg\" alt=\"Open In Colab\"/></a>"
      ]
    },
    {
      "cell_type": "code",
      "source": [
        "#importing yfinance\n",
        "import yfinance as yf\n",
        "#Collecting data\n",
        "data_raw = yf.download('AMZN',period='5y',interval='1d')\n",
        "data_raw.head()"
      ],
      "metadata": {
        "id": "JGrQiC1d3Hxm",
        "colab": {
          "base_uri": "https://localhost:8080/",
          "height": 287
        },
        "outputId": "0fead61d-eafd-48dd-8b15-4af49252cb0f"
      },
      "id": "JGrQiC1d3Hxm",
      "execution_count": null,
      "outputs": [
        {
          "output_type": "stream",
          "name": "stderr",
          "text": [
            "\r[*********************100%***********************]  1 of 1 completed\n"
          ]
        },
        {
          "output_type": "execute_result",
          "data": {
            "text/plain": [
              "Price                      Adj Close      Close       High        Low  \\\n",
              "Ticker                          AMZN       AMZN       AMZN       AMZN   \n",
              "Date                                                                    \n",
              "2019-12-02 00:00:00+00:00  89.080002  89.080002  90.277496  88.134003   \n",
              "2019-12-03 00:00:00+00:00  88.498001  88.498001  88.643501  87.361504   \n",
              "2019-12-04 00:00:00+00:00  88.034500  88.034500  89.454498  88.011002   \n",
              "2019-12-05 00:00:00+00:00  87.024002  87.024002  88.175003  87.000000   \n",
              "2019-12-06 00:00:00+00:00  87.580002  87.580002  87.720001  87.006500   \n",
              "\n",
              "Price                           Open    Volume  \n",
              "Ticker                          AMZN      AMZN  \n",
              "Date                                            \n",
              "2019-12-02 00:00:00+00:00  90.220001  78512000  \n",
              "2019-12-03 00:00:00+00:00  88.000000  67618000  \n",
              "2019-12-04 00:00:00+00:00  88.700500  53402000  \n",
              "2019-12-05 00:00:00+00:00  88.175003  56476000  \n",
              "2019-12-06 00:00:00+00:00  87.559998  62348000  "
            ],
            "text/html": [
              "\n",
              "  <div id=\"df-5b4e1aca-615c-458b-bec3-347aece12844\" class=\"colab-df-container\">\n",
              "    <div>\n",
              "<style scoped>\n",
              "    .dataframe tbody tr th:only-of-type {\n",
              "        vertical-align: middle;\n",
              "    }\n",
              "\n",
              "    .dataframe tbody tr th {\n",
              "        vertical-align: top;\n",
              "    }\n",
              "\n",
              "    .dataframe thead tr th {\n",
              "        text-align: left;\n",
              "    }\n",
              "\n",
              "    .dataframe thead tr:last-of-type th {\n",
              "        text-align: right;\n",
              "    }\n",
              "</style>\n",
              "<table border=\"1\" class=\"dataframe\">\n",
              "  <thead>\n",
              "    <tr>\n",
              "      <th>Price</th>\n",
              "      <th>Adj Close</th>\n",
              "      <th>Close</th>\n",
              "      <th>High</th>\n",
              "      <th>Low</th>\n",
              "      <th>Open</th>\n",
              "      <th>Volume</th>\n",
              "    </tr>\n",
              "    <tr>\n",
              "      <th>Ticker</th>\n",
              "      <th>AMZN</th>\n",
              "      <th>AMZN</th>\n",
              "      <th>AMZN</th>\n",
              "      <th>AMZN</th>\n",
              "      <th>AMZN</th>\n",
              "      <th>AMZN</th>\n",
              "    </tr>\n",
              "    <tr>\n",
              "      <th>Date</th>\n",
              "      <th></th>\n",
              "      <th></th>\n",
              "      <th></th>\n",
              "      <th></th>\n",
              "      <th></th>\n",
              "      <th></th>\n",
              "    </tr>\n",
              "  </thead>\n",
              "  <tbody>\n",
              "    <tr>\n",
              "      <th>2019-12-02 00:00:00+00:00</th>\n",
              "      <td>89.080002</td>\n",
              "      <td>89.080002</td>\n",
              "      <td>90.277496</td>\n",
              "      <td>88.134003</td>\n",
              "      <td>90.220001</td>\n",
              "      <td>78512000</td>\n",
              "    </tr>\n",
              "    <tr>\n",
              "      <th>2019-12-03 00:00:00+00:00</th>\n",
              "      <td>88.498001</td>\n",
              "      <td>88.498001</td>\n",
              "      <td>88.643501</td>\n",
              "      <td>87.361504</td>\n",
              "      <td>88.000000</td>\n",
              "      <td>67618000</td>\n",
              "    </tr>\n",
              "    <tr>\n",
              "      <th>2019-12-04 00:00:00+00:00</th>\n",
              "      <td>88.034500</td>\n",
              "      <td>88.034500</td>\n",
              "      <td>89.454498</td>\n",
              "      <td>88.011002</td>\n",
              "      <td>88.700500</td>\n",
              "      <td>53402000</td>\n",
              "    </tr>\n",
              "    <tr>\n",
              "      <th>2019-12-05 00:00:00+00:00</th>\n",
              "      <td>87.024002</td>\n",
              "      <td>87.024002</td>\n",
              "      <td>88.175003</td>\n",
              "      <td>87.000000</td>\n",
              "      <td>88.175003</td>\n",
              "      <td>56476000</td>\n",
              "    </tr>\n",
              "    <tr>\n",
              "      <th>2019-12-06 00:00:00+00:00</th>\n",
              "      <td>87.580002</td>\n",
              "      <td>87.580002</td>\n",
              "      <td>87.720001</td>\n",
              "      <td>87.006500</td>\n",
              "      <td>87.559998</td>\n",
              "      <td>62348000</td>\n",
              "    </tr>\n",
              "  </tbody>\n",
              "</table>\n",
              "</div>\n",
              "    <div class=\"colab-df-buttons\">\n",
              "\n",
              "  <div class=\"colab-df-container\">\n",
              "    <button class=\"colab-df-convert\" onclick=\"convertToInteractive('df-5b4e1aca-615c-458b-bec3-347aece12844')\"\n",
              "            title=\"Convert this dataframe to an interactive table.\"\n",
              "            style=\"display:none;\">\n",
              "\n",
              "  <svg xmlns=\"http://www.w3.org/2000/svg\" height=\"24px\" viewBox=\"0 -960 960 960\">\n",
              "    <path d=\"M120-120v-720h720v720H120Zm60-500h600v-160H180v160Zm220 220h160v-160H400v160Zm0 220h160v-160H400v160ZM180-400h160v-160H180v160Zm440 0h160v-160H620v160ZM180-180h160v-160H180v160Zm440 0h160v-160H620v160Z\"/>\n",
              "  </svg>\n",
              "    </button>\n",
              "\n",
              "  <style>\n",
              "    .colab-df-container {\n",
              "      display:flex;\n",
              "      gap: 12px;\n",
              "    }\n",
              "\n",
              "    .colab-df-convert {\n",
              "      background-color: #E8F0FE;\n",
              "      border: none;\n",
              "      border-radius: 50%;\n",
              "      cursor: pointer;\n",
              "      display: none;\n",
              "      fill: #1967D2;\n",
              "      height: 32px;\n",
              "      padding: 0 0 0 0;\n",
              "      width: 32px;\n",
              "    }\n",
              "\n",
              "    .colab-df-convert:hover {\n",
              "      background-color: #E2EBFA;\n",
              "      box-shadow: 0px 1px 2px rgba(60, 64, 67, 0.3), 0px 1px 3px 1px rgba(60, 64, 67, 0.15);\n",
              "      fill: #174EA6;\n",
              "    }\n",
              "\n",
              "    .colab-df-buttons div {\n",
              "      margin-bottom: 4px;\n",
              "    }\n",
              "\n",
              "    [theme=dark] .colab-df-convert {\n",
              "      background-color: #3B4455;\n",
              "      fill: #D2E3FC;\n",
              "    }\n",
              "\n",
              "    [theme=dark] .colab-df-convert:hover {\n",
              "      background-color: #434B5C;\n",
              "      box-shadow: 0px 1px 3px 1px rgba(0, 0, 0, 0.15);\n",
              "      filter: drop-shadow(0px 1px 2px rgba(0, 0, 0, 0.3));\n",
              "      fill: #FFFFFF;\n",
              "    }\n",
              "  </style>\n",
              "\n",
              "    <script>\n",
              "      const buttonEl =\n",
              "        document.querySelector('#df-5b4e1aca-615c-458b-bec3-347aece12844 button.colab-df-convert');\n",
              "      buttonEl.style.display =\n",
              "        google.colab.kernel.accessAllowed ? 'block' : 'none';\n",
              "\n",
              "      async function convertToInteractive(key) {\n",
              "        const element = document.querySelector('#df-5b4e1aca-615c-458b-bec3-347aece12844');\n",
              "        const dataTable =\n",
              "          await google.colab.kernel.invokeFunction('convertToInteractive',\n",
              "                                                    [key], {});\n",
              "        if (!dataTable) return;\n",
              "\n",
              "        const docLinkHtml = 'Like what you see? Visit the ' +\n",
              "          '<a target=\"_blank\" href=https://colab.research.google.com/notebooks/data_table.ipynb>data table notebook</a>'\n",
              "          + ' to learn more about interactive tables.';\n",
              "        element.innerHTML = '';\n",
              "        dataTable['output_type'] = 'display_data';\n",
              "        await google.colab.output.renderOutput(dataTable, element);\n",
              "        const docLink = document.createElement('div');\n",
              "        docLink.innerHTML = docLinkHtml;\n",
              "        element.appendChild(docLink);\n",
              "      }\n",
              "    </script>\n",
              "  </div>\n",
              "\n",
              "\n",
              "<div id=\"df-0be4e4a3-0173-4da8-a674-d410fb19fb04\">\n",
              "  <button class=\"colab-df-quickchart\" onclick=\"quickchart('df-0be4e4a3-0173-4da8-a674-d410fb19fb04')\"\n",
              "            title=\"Suggest charts\"\n",
              "            style=\"display:none;\">\n",
              "\n",
              "<svg xmlns=\"http://www.w3.org/2000/svg\" height=\"24px\"viewBox=\"0 0 24 24\"\n",
              "     width=\"24px\">\n",
              "    <g>\n",
              "        <path d=\"M19 3H5c-1.1 0-2 .9-2 2v14c0 1.1.9 2 2 2h14c1.1 0 2-.9 2-2V5c0-1.1-.9-2-2-2zM9 17H7v-7h2v7zm4 0h-2V7h2v10zm4 0h-2v-4h2v4z\"/>\n",
              "    </g>\n",
              "</svg>\n",
              "  </button>\n",
              "\n",
              "<style>\n",
              "  .colab-df-quickchart {\n",
              "      --bg-color: #E8F0FE;\n",
              "      --fill-color: #1967D2;\n",
              "      --hover-bg-color: #E2EBFA;\n",
              "      --hover-fill-color: #174EA6;\n",
              "      --disabled-fill-color: #AAA;\n",
              "      --disabled-bg-color: #DDD;\n",
              "  }\n",
              "\n",
              "  [theme=dark] .colab-df-quickchart {\n",
              "      --bg-color: #3B4455;\n",
              "      --fill-color: #D2E3FC;\n",
              "      --hover-bg-color: #434B5C;\n",
              "      --hover-fill-color: #FFFFFF;\n",
              "      --disabled-bg-color: #3B4455;\n",
              "      --disabled-fill-color: #666;\n",
              "  }\n",
              "\n",
              "  .colab-df-quickchart {\n",
              "    background-color: var(--bg-color);\n",
              "    border: none;\n",
              "    border-radius: 50%;\n",
              "    cursor: pointer;\n",
              "    display: none;\n",
              "    fill: var(--fill-color);\n",
              "    height: 32px;\n",
              "    padding: 0;\n",
              "    width: 32px;\n",
              "  }\n",
              "\n",
              "  .colab-df-quickchart:hover {\n",
              "    background-color: var(--hover-bg-color);\n",
              "    box-shadow: 0 1px 2px rgba(60, 64, 67, 0.3), 0 1px 3px 1px rgba(60, 64, 67, 0.15);\n",
              "    fill: var(--button-hover-fill-color);\n",
              "  }\n",
              "\n",
              "  .colab-df-quickchart-complete:disabled,\n",
              "  .colab-df-quickchart-complete:disabled:hover {\n",
              "    background-color: var(--disabled-bg-color);\n",
              "    fill: var(--disabled-fill-color);\n",
              "    box-shadow: none;\n",
              "  }\n",
              "\n",
              "  .colab-df-spinner {\n",
              "    border: 2px solid var(--fill-color);\n",
              "    border-color: transparent;\n",
              "    border-bottom-color: var(--fill-color);\n",
              "    animation:\n",
              "      spin 1s steps(1) infinite;\n",
              "  }\n",
              "\n",
              "  @keyframes spin {\n",
              "    0% {\n",
              "      border-color: transparent;\n",
              "      border-bottom-color: var(--fill-color);\n",
              "      border-left-color: var(--fill-color);\n",
              "    }\n",
              "    20% {\n",
              "      border-color: transparent;\n",
              "      border-left-color: var(--fill-color);\n",
              "      border-top-color: var(--fill-color);\n",
              "    }\n",
              "    30% {\n",
              "      border-color: transparent;\n",
              "      border-left-color: var(--fill-color);\n",
              "      border-top-color: var(--fill-color);\n",
              "      border-right-color: var(--fill-color);\n",
              "    }\n",
              "    40% {\n",
              "      border-color: transparent;\n",
              "      border-right-color: var(--fill-color);\n",
              "      border-top-color: var(--fill-color);\n",
              "    }\n",
              "    60% {\n",
              "      border-color: transparent;\n",
              "      border-right-color: var(--fill-color);\n",
              "    }\n",
              "    80% {\n",
              "      border-color: transparent;\n",
              "      border-right-color: var(--fill-color);\n",
              "      border-bottom-color: var(--fill-color);\n",
              "    }\n",
              "    90% {\n",
              "      border-color: transparent;\n",
              "      border-bottom-color: var(--fill-color);\n",
              "    }\n",
              "  }\n",
              "</style>\n",
              "\n",
              "  <script>\n",
              "    async function quickchart(key) {\n",
              "      const quickchartButtonEl =\n",
              "        document.querySelector('#' + key + ' button');\n",
              "      quickchartButtonEl.disabled = true;  // To prevent multiple clicks.\n",
              "      quickchartButtonEl.classList.add('colab-df-spinner');\n",
              "      try {\n",
              "        const charts = await google.colab.kernel.invokeFunction(\n",
              "            'suggestCharts', [key], {});\n",
              "      } catch (error) {\n",
              "        console.error('Error during call to suggestCharts:', error);\n",
              "      }\n",
              "      quickchartButtonEl.classList.remove('colab-df-spinner');\n",
              "      quickchartButtonEl.classList.add('colab-df-quickchart-complete');\n",
              "    }\n",
              "    (() => {\n",
              "      let quickchartButtonEl =\n",
              "        document.querySelector('#df-0be4e4a3-0173-4da8-a674-d410fb19fb04 button');\n",
              "      quickchartButtonEl.style.display =\n",
              "        google.colab.kernel.accessAllowed ? 'block' : 'none';\n",
              "    })();\n",
              "  </script>\n",
              "</div>\n",
              "\n",
              "    </div>\n",
              "  </div>\n"
            ],
            "application/vnd.google.colaboratory.intrinsic+json": {
              "type": "dataframe",
              "variable_name": "data_raw",
              "summary": "{\n  \"name\": \"data_raw\",\n  \"rows\": 1258,\n  \"fields\": [\n    {\n      \"column\": [\n        \"Date\",\n        \"\"\n      ],\n      \"properties\": {\n        \"dtype\": \"date\",\n        \"min\": \"2019-12-02 00:00:00+00:00\",\n        \"max\": \"2024-11-29 00:00:00+00:00\",\n        \"num_unique_values\": 1258,\n        \"samples\": [\n          \"2022-02-23 00:00:00+00:00\",\n          \"2020-04-28 00:00:00+00:00\",\n          \"2020-02-14 00:00:00+00:00\"\n        ],\n        \"semantic_type\": \"\",\n        \"description\": \"\"\n      }\n    },\n    {\n      \"column\": [\n        \"Adj Close\",\n        \"AMZN\"\n      ],\n      \"properties\": {\n        \"dtype\": \"number\",\n        \"std\": 31.206302160007965,\n        \"min\": 81.81999969482422,\n        \"max\": 214.10000610351562,\n        \"num_unique_values\": 1228,\n        \"samples\": [\n          113.0,\n          174.44900512695312,\n          155.2729949951172\n        ],\n        \"semantic_type\": \"\",\n        \"description\": \"\"\n      }\n    },\n    {\n      \"column\": [\n        \"Close\",\n        \"AMZN\"\n      ],\n      \"properties\": {\n        \"dtype\": \"number\",\n        \"std\": 31.206302160007965,\n        \"min\": 81.81999969482422,\n        \"max\": 214.10000610351562,\n        \"num_unique_values\": 1228,\n        \"samples\": [\n          113.0,\n          174.44900512695312,\n          155.2729949951172\n        ],\n        \"semantic_type\": \"\",\n        \"description\": \"\"\n      }\n    },\n    {\n      \"column\": [\n        \"High\",\n        \"AMZN\"\n      ],\n      \"properties\": {\n        \"dtype\": \"number\",\n        \"std\": 31.347581368944773,\n        \"min\": 83.4800033569336,\n        \"max\": 215.89999389648438,\n        \"num_unique_values\": 1221,\n        \"samples\": [\n          161.79249572753906,\n          155.93350219726562,\n          102.98999786376953\n        ],\n        \"semantic_type\": \"\",\n        \"description\": \"\"\n      }\n    },\n    {\n      \"column\": [\n        \"Low\",\n        \"AMZN\"\n      ],\n      \"properties\": {\n        \"dtype\": \"number\",\n        \"std\": 31.08348136895607,\n        \"min\": 81.30149841308594,\n        \"max\": 210.8800048828125,\n        \"num_unique_values\": 1221,\n        \"samples\": [\n          150.60800170898438,\n          156.3000030517578,\n          101.5999984741211\n        ],\n        \"semantic_type\": \"\",\n        \"description\": \"\"\n      }\n    },\n    {\n      \"column\": [\n        \"Open\",\n        \"AMZN\"\n      ],\n      \"properties\": {\n        \"dtype\": \"number\",\n        \"std\": 31.28090171152246,\n        \"min\": 82.07550048828125,\n        \"max\": 214.16000366210938,\n        \"num_unique_values\": 1207,\n        \"samples\": [\n          116.83999633789062,\n          158.80050659179688,\n          181.6999969482422\n        ],\n        \"semantic_type\": \"\",\n        \"description\": \"\"\n      }\n    },\n    {\n      \"column\": [\n        \"Volume\",\n        \"AMZN\"\n      ],\n      \"properties\": {\n        \"dtype\": \"number\",\n        \"std\": 33859628,\n        \"min\": 17626000,\n        \"max\": 311346000,\n        \"num_unique_values\": 1251,\n        \"samples\": [\n          55660500,\n          31197900,\n          28484800\n        ],\n        \"semantic_type\": \"\",\n        \"description\": \"\"\n      }\n    }\n  ]\n}"
            }
          },
          "metadata": {},
          "execution_count": 29
        }
      ]
    },
    {
      "cell_type": "code",
      "source": [
        "data_raw.tail()"
      ],
      "metadata": {
        "id": "aWdhDxeL4wNR",
        "colab": {
          "base_uri": "https://localhost:8080/",
          "height": 269
        },
        "outputId": "b22be009-b67f-47f4-8fde-5c8e50d49094"
      },
      "id": "aWdhDxeL4wNR",
      "execution_count": null,
      "outputs": [
        {
          "output_type": "execute_result",
          "data": {
            "text/plain": [
              "Price                       Adj Close       Close        High         Low  \\\n",
              "Ticker                           AMZN        AMZN        AMZN        AMZN   \n",
              "Date                                                                        \n",
              "2024-11-22 00:00:00+00:00  197.119995  197.119995  199.259995  196.750000   \n",
              "2024-11-25 00:00:00+00:00  201.449997  201.449997  201.949997  199.000000   \n",
              "2024-11-26 00:00:00+00:00  207.860001  207.860001  208.000000  201.789993   \n",
              "2024-11-27 00:00:00+00:00  205.740005  205.740005  207.639999  205.050003   \n",
              "2024-11-29 00:00:00+00:00  207.889999  207.889999  208.199997  204.589996   \n",
              "\n",
              "Price                            Open    Volume  \n",
              "Ticker                           AMZN      AMZN  \n",
              "Date                                             \n",
              "2024-11-22 00:00:00+00:00  198.250000  31530800  \n",
              "2024-11-25 00:00:00+00:00  199.279999  40685700  \n",
              "2024-11-26 00:00:00+00:00  201.899994  41673700  \n",
              "2024-11-27 00:00:00+00:00  206.979996  28061600  \n",
              "2024-11-29 00:00:00+00:00  205.830002  24892400  "
            ],
            "text/html": [
              "\n",
              "  <div id=\"df-dcf62f63-6797-4862-8981-f1ce8c8a18f5\" class=\"colab-df-container\">\n",
              "    <div>\n",
              "<style scoped>\n",
              "    .dataframe tbody tr th:only-of-type {\n",
              "        vertical-align: middle;\n",
              "    }\n",
              "\n",
              "    .dataframe tbody tr th {\n",
              "        vertical-align: top;\n",
              "    }\n",
              "\n",
              "    .dataframe thead tr th {\n",
              "        text-align: left;\n",
              "    }\n",
              "\n",
              "    .dataframe thead tr:last-of-type th {\n",
              "        text-align: right;\n",
              "    }\n",
              "</style>\n",
              "<table border=\"1\" class=\"dataframe\">\n",
              "  <thead>\n",
              "    <tr>\n",
              "      <th>Price</th>\n",
              "      <th>Adj Close</th>\n",
              "      <th>Close</th>\n",
              "      <th>High</th>\n",
              "      <th>Low</th>\n",
              "      <th>Open</th>\n",
              "      <th>Volume</th>\n",
              "    </tr>\n",
              "    <tr>\n",
              "      <th>Ticker</th>\n",
              "      <th>AMZN</th>\n",
              "      <th>AMZN</th>\n",
              "      <th>AMZN</th>\n",
              "      <th>AMZN</th>\n",
              "      <th>AMZN</th>\n",
              "      <th>AMZN</th>\n",
              "    </tr>\n",
              "    <tr>\n",
              "      <th>Date</th>\n",
              "      <th></th>\n",
              "      <th></th>\n",
              "      <th></th>\n",
              "      <th></th>\n",
              "      <th></th>\n",
              "      <th></th>\n",
              "    </tr>\n",
              "  </thead>\n",
              "  <tbody>\n",
              "    <tr>\n",
              "      <th>2024-11-22 00:00:00+00:00</th>\n",
              "      <td>197.119995</td>\n",
              "      <td>197.119995</td>\n",
              "      <td>199.259995</td>\n",
              "      <td>196.750000</td>\n",
              "      <td>198.250000</td>\n",
              "      <td>31530800</td>\n",
              "    </tr>\n",
              "    <tr>\n",
              "      <th>2024-11-25 00:00:00+00:00</th>\n",
              "      <td>201.449997</td>\n",
              "      <td>201.449997</td>\n",
              "      <td>201.949997</td>\n",
              "      <td>199.000000</td>\n",
              "      <td>199.279999</td>\n",
              "      <td>40685700</td>\n",
              "    </tr>\n",
              "    <tr>\n",
              "      <th>2024-11-26 00:00:00+00:00</th>\n",
              "      <td>207.860001</td>\n",
              "      <td>207.860001</td>\n",
              "      <td>208.000000</td>\n",
              "      <td>201.789993</td>\n",
              "      <td>201.899994</td>\n",
              "      <td>41673700</td>\n",
              "    </tr>\n",
              "    <tr>\n",
              "      <th>2024-11-27 00:00:00+00:00</th>\n",
              "      <td>205.740005</td>\n",
              "      <td>205.740005</td>\n",
              "      <td>207.639999</td>\n",
              "      <td>205.050003</td>\n",
              "      <td>206.979996</td>\n",
              "      <td>28061600</td>\n",
              "    </tr>\n",
              "    <tr>\n",
              "      <th>2024-11-29 00:00:00+00:00</th>\n",
              "      <td>207.889999</td>\n",
              "      <td>207.889999</td>\n",
              "      <td>208.199997</td>\n",
              "      <td>204.589996</td>\n",
              "      <td>205.830002</td>\n",
              "      <td>24892400</td>\n",
              "    </tr>\n",
              "  </tbody>\n",
              "</table>\n",
              "</div>\n",
              "    <div class=\"colab-df-buttons\">\n",
              "\n",
              "  <div class=\"colab-df-container\">\n",
              "    <button class=\"colab-df-convert\" onclick=\"convertToInteractive('df-dcf62f63-6797-4862-8981-f1ce8c8a18f5')\"\n",
              "            title=\"Convert this dataframe to an interactive table.\"\n",
              "            style=\"display:none;\">\n",
              "\n",
              "  <svg xmlns=\"http://www.w3.org/2000/svg\" height=\"24px\" viewBox=\"0 -960 960 960\">\n",
              "    <path d=\"M120-120v-720h720v720H120Zm60-500h600v-160H180v160Zm220 220h160v-160H400v160Zm0 220h160v-160H400v160ZM180-400h160v-160H180v160Zm440 0h160v-160H620v160ZM180-180h160v-160H180v160Zm440 0h160v-160H620v160Z\"/>\n",
              "  </svg>\n",
              "    </button>\n",
              "\n",
              "  <style>\n",
              "    .colab-df-container {\n",
              "      display:flex;\n",
              "      gap: 12px;\n",
              "    }\n",
              "\n",
              "    .colab-df-convert {\n",
              "      background-color: #E8F0FE;\n",
              "      border: none;\n",
              "      border-radius: 50%;\n",
              "      cursor: pointer;\n",
              "      display: none;\n",
              "      fill: #1967D2;\n",
              "      height: 32px;\n",
              "      padding: 0 0 0 0;\n",
              "      width: 32px;\n",
              "    }\n",
              "\n",
              "    .colab-df-convert:hover {\n",
              "      background-color: #E2EBFA;\n",
              "      box-shadow: 0px 1px 2px rgba(60, 64, 67, 0.3), 0px 1px 3px 1px rgba(60, 64, 67, 0.15);\n",
              "      fill: #174EA6;\n",
              "    }\n",
              "\n",
              "    .colab-df-buttons div {\n",
              "      margin-bottom: 4px;\n",
              "    }\n",
              "\n",
              "    [theme=dark] .colab-df-convert {\n",
              "      background-color: #3B4455;\n",
              "      fill: #D2E3FC;\n",
              "    }\n",
              "\n",
              "    [theme=dark] .colab-df-convert:hover {\n",
              "      background-color: #434B5C;\n",
              "      box-shadow: 0px 1px 3px 1px rgba(0, 0, 0, 0.15);\n",
              "      filter: drop-shadow(0px 1px 2px rgba(0, 0, 0, 0.3));\n",
              "      fill: #FFFFFF;\n",
              "    }\n",
              "  </style>\n",
              "\n",
              "    <script>\n",
              "      const buttonEl =\n",
              "        document.querySelector('#df-dcf62f63-6797-4862-8981-f1ce8c8a18f5 button.colab-df-convert');\n",
              "      buttonEl.style.display =\n",
              "        google.colab.kernel.accessAllowed ? 'block' : 'none';\n",
              "\n",
              "      async function convertToInteractive(key) {\n",
              "        const element = document.querySelector('#df-dcf62f63-6797-4862-8981-f1ce8c8a18f5');\n",
              "        const dataTable =\n",
              "          await google.colab.kernel.invokeFunction('convertToInteractive',\n",
              "                                                    [key], {});\n",
              "        if (!dataTable) return;\n",
              "\n",
              "        const docLinkHtml = 'Like what you see? Visit the ' +\n",
              "          '<a target=\"_blank\" href=https://colab.research.google.com/notebooks/data_table.ipynb>data table notebook</a>'\n",
              "          + ' to learn more about interactive tables.';\n",
              "        element.innerHTML = '';\n",
              "        dataTable['output_type'] = 'display_data';\n",
              "        await google.colab.output.renderOutput(dataTable, element);\n",
              "        const docLink = document.createElement('div');\n",
              "        docLink.innerHTML = docLinkHtml;\n",
              "        element.appendChild(docLink);\n",
              "      }\n",
              "    </script>\n",
              "  </div>\n",
              "\n",
              "\n",
              "<div id=\"df-a9d55738-26cc-4e11-aca4-03050f2b0027\">\n",
              "  <button class=\"colab-df-quickchart\" onclick=\"quickchart('df-a9d55738-26cc-4e11-aca4-03050f2b0027')\"\n",
              "            title=\"Suggest charts\"\n",
              "            style=\"display:none;\">\n",
              "\n",
              "<svg xmlns=\"http://www.w3.org/2000/svg\" height=\"24px\"viewBox=\"0 0 24 24\"\n",
              "     width=\"24px\">\n",
              "    <g>\n",
              "        <path d=\"M19 3H5c-1.1 0-2 .9-2 2v14c0 1.1.9 2 2 2h14c1.1 0 2-.9 2-2V5c0-1.1-.9-2-2-2zM9 17H7v-7h2v7zm4 0h-2V7h2v10zm4 0h-2v-4h2v4z\"/>\n",
              "    </g>\n",
              "</svg>\n",
              "  </button>\n",
              "\n",
              "<style>\n",
              "  .colab-df-quickchart {\n",
              "      --bg-color: #E8F0FE;\n",
              "      --fill-color: #1967D2;\n",
              "      --hover-bg-color: #E2EBFA;\n",
              "      --hover-fill-color: #174EA6;\n",
              "      --disabled-fill-color: #AAA;\n",
              "      --disabled-bg-color: #DDD;\n",
              "  }\n",
              "\n",
              "  [theme=dark] .colab-df-quickchart {\n",
              "      --bg-color: #3B4455;\n",
              "      --fill-color: #D2E3FC;\n",
              "      --hover-bg-color: #434B5C;\n",
              "      --hover-fill-color: #FFFFFF;\n",
              "      --disabled-bg-color: #3B4455;\n",
              "      --disabled-fill-color: #666;\n",
              "  }\n",
              "\n",
              "  .colab-df-quickchart {\n",
              "    background-color: var(--bg-color);\n",
              "    border: none;\n",
              "    border-radius: 50%;\n",
              "    cursor: pointer;\n",
              "    display: none;\n",
              "    fill: var(--fill-color);\n",
              "    height: 32px;\n",
              "    padding: 0;\n",
              "    width: 32px;\n",
              "  }\n",
              "\n",
              "  .colab-df-quickchart:hover {\n",
              "    background-color: var(--hover-bg-color);\n",
              "    box-shadow: 0 1px 2px rgba(60, 64, 67, 0.3), 0 1px 3px 1px rgba(60, 64, 67, 0.15);\n",
              "    fill: var(--button-hover-fill-color);\n",
              "  }\n",
              "\n",
              "  .colab-df-quickchart-complete:disabled,\n",
              "  .colab-df-quickchart-complete:disabled:hover {\n",
              "    background-color: var(--disabled-bg-color);\n",
              "    fill: var(--disabled-fill-color);\n",
              "    box-shadow: none;\n",
              "  }\n",
              "\n",
              "  .colab-df-spinner {\n",
              "    border: 2px solid var(--fill-color);\n",
              "    border-color: transparent;\n",
              "    border-bottom-color: var(--fill-color);\n",
              "    animation:\n",
              "      spin 1s steps(1) infinite;\n",
              "  }\n",
              "\n",
              "  @keyframes spin {\n",
              "    0% {\n",
              "      border-color: transparent;\n",
              "      border-bottom-color: var(--fill-color);\n",
              "      border-left-color: var(--fill-color);\n",
              "    }\n",
              "    20% {\n",
              "      border-color: transparent;\n",
              "      border-left-color: var(--fill-color);\n",
              "      border-top-color: var(--fill-color);\n",
              "    }\n",
              "    30% {\n",
              "      border-color: transparent;\n",
              "      border-left-color: var(--fill-color);\n",
              "      border-top-color: var(--fill-color);\n",
              "      border-right-color: var(--fill-color);\n",
              "    }\n",
              "    40% {\n",
              "      border-color: transparent;\n",
              "      border-right-color: var(--fill-color);\n",
              "      border-top-color: var(--fill-color);\n",
              "    }\n",
              "    60% {\n",
              "      border-color: transparent;\n",
              "      border-right-color: var(--fill-color);\n",
              "    }\n",
              "    80% {\n",
              "      border-color: transparent;\n",
              "      border-right-color: var(--fill-color);\n",
              "      border-bottom-color: var(--fill-color);\n",
              "    }\n",
              "    90% {\n",
              "      border-color: transparent;\n",
              "      border-bottom-color: var(--fill-color);\n",
              "    }\n",
              "  }\n",
              "</style>\n",
              "\n",
              "  <script>\n",
              "    async function quickchart(key) {\n",
              "      const quickchartButtonEl =\n",
              "        document.querySelector('#' + key + ' button');\n",
              "      quickchartButtonEl.disabled = true;  // To prevent multiple clicks.\n",
              "      quickchartButtonEl.classList.add('colab-df-spinner');\n",
              "      try {\n",
              "        const charts = await google.colab.kernel.invokeFunction(\n",
              "            'suggestCharts', [key], {});\n",
              "      } catch (error) {\n",
              "        console.error('Error during call to suggestCharts:', error);\n",
              "      }\n",
              "      quickchartButtonEl.classList.remove('colab-df-spinner');\n",
              "      quickchartButtonEl.classList.add('colab-df-quickchart-complete');\n",
              "    }\n",
              "    (() => {\n",
              "      let quickchartButtonEl =\n",
              "        document.querySelector('#df-a9d55738-26cc-4e11-aca4-03050f2b0027 button');\n",
              "      quickchartButtonEl.style.display =\n",
              "        google.colab.kernel.accessAllowed ? 'block' : 'none';\n",
              "    })();\n",
              "  </script>\n",
              "</div>\n",
              "\n",
              "    </div>\n",
              "  </div>\n"
            ],
            "application/vnd.google.colaboratory.intrinsic+json": {
              "type": "dataframe",
              "summary": "{\n  \"name\": \"data_raw\",\n  \"rows\": 5,\n  \"fields\": [\n    {\n      \"column\": [\n        \"Date\",\n        \"\"\n      ],\n      \"properties\": {\n        \"dtype\": \"date\",\n        \"min\": \"2024-11-22 00:00:00+00:00\",\n        \"max\": \"2024-11-29 00:00:00+00:00\",\n        \"num_unique_values\": 5,\n        \"samples\": [\n          \"2024-11-25 00:00:00+00:00\",\n          \"2024-11-29 00:00:00+00:00\",\n          \"2024-11-26 00:00:00+00:00\"\n        ],\n        \"semantic_type\": \"\",\n        \"description\": \"\"\n      }\n    },\n    {\n      \"column\": [\n        \"Adj Close\",\n        \"AMZN\"\n      ],\n      \"properties\": {\n        \"dtype\": \"number\",\n        \"std\": 4.660889987162091,\n        \"min\": 197.1199951171875,\n        \"max\": 207.88999938964844,\n        \"num_unique_values\": 5,\n        \"samples\": [\n          201.4499969482422,\n          207.88999938964844,\n          207.86000061035156\n        ],\n        \"semantic_type\": \"\",\n        \"description\": \"\"\n      }\n    },\n    {\n      \"column\": [\n        \"Close\",\n        \"AMZN\"\n      ],\n      \"properties\": {\n        \"dtype\": \"number\",\n        \"std\": 4.660889987162091,\n        \"min\": 197.1199951171875,\n        \"max\": 207.88999938964844,\n        \"num_unique_values\": 5,\n        \"samples\": [\n          201.4499969482422,\n          207.88999938964844,\n          207.86000061035156\n        ],\n        \"semantic_type\": \"\",\n        \"description\": \"\"\n      }\n    },\n    {\n      \"column\": [\n        \"High\",\n        \"AMZN\"\n      ],\n      \"properties\": {\n        \"dtype\": \"number\",\n        \"std\": 4.137005534426436,\n        \"min\": 199.25999450683594,\n        \"max\": 208.1999969482422,\n        \"num_unique_values\": 5,\n        \"samples\": [\n          201.9499969482422,\n          208.1999969482422,\n          208.0\n        ],\n        \"semantic_type\": \"\",\n        \"description\": \"\"\n      }\n    },\n    {\n      \"column\": [\n        \"Low\",\n        \"AMZN\"\n      ],\n      \"properties\": {\n        \"dtype\": \"number\",\n        \"std\": 3.571649276040364,\n        \"min\": 196.75,\n        \"max\": 205.0500030517578,\n        \"num_unique_values\": 5,\n        \"samples\": [\n          199.0,\n          204.58999633789062,\n          201.7899932861328\n        ],\n        \"semantic_type\": \"\",\n        \"description\": \"\"\n      }\n    },\n    {\n      \"column\": [\n        \"Open\",\n        \"AMZN\"\n      ],\n      \"properties\": {\n        \"dtype\": \"number\",\n        \"std\": 3.8709387777236084,\n        \"min\": 198.25,\n        \"max\": 206.97999572753906,\n        \"num_unique_values\": 5,\n        \"samples\": [\n          199.27999877929688,\n          205.8300018310547,\n          201.89999389648438\n        ],\n        \"semantic_type\": \"\",\n        \"description\": \"\"\n      }\n    },\n    {\n      \"column\": [\n        \"Volume\",\n        \"AMZN\"\n      ],\n      \"properties\": {\n        \"dtype\": \"number\",\n        \"std\": 7515024,\n        \"min\": 24892400,\n        \"max\": 41673700,\n        \"num_unique_values\": 5,\n        \"samples\": [\n          40685700,\n          24892400,\n          41673700\n        ],\n        \"semantic_type\": \"\",\n        \"description\": \"\"\n      }\n    }\n  ]\n}"
            }
          },
          "metadata": {},
          "execution_count": 30
        }
      ]
    },
    {
      "cell_type": "code",
      "execution_count": null,
      "id": "2a4fdd0f",
      "metadata": {
        "id": "2a4fdd0f"
      },
      "outputs": [],
      "source": [
        "import pandas as pd\n",
        "import numpy as np\n",
        "import matplotlib.pyplot as plt\n",
        "\n",
        "import torch\n",
        "import torch.nn as nn\n",
        "\n"
      ]
    },
    {
      "cell_type": "code",
      "source": [
        "# Extract Date (index) and Close values into a new DataFrame\n",
        "data = data_raw[['Close']].copy()\n",
        "data.reset_index(inplace=True)\n",
        "data.rename(columns={'index': 'Date'}, inplace=True)\n",
        "\n",
        "# Display the new DataFrame\n",
        "print(data)"
      ],
      "metadata": {
        "id": "WtCP8-cDbg9R",
        "colab": {
          "base_uri": "https://localhost:8080/"
        },
        "outputId": "6e0c20ae-8bf5-47d8-91bc-32a1a1e6c363"
      },
      "id": "WtCP8-cDbg9R",
      "execution_count": null,
      "outputs": [
        {
          "output_type": "stream",
          "name": "stdout",
          "text": [
            "Price                       Date       Close\n",
            "Ticker                                  AMZN\n",
            "0      2019-12-02 00:00:00+00:00   89.080002\n",
            "1      2019-12-03 00:00:00+00:00   88.498001\n",
            "2      2019-12-04 00:00:00+00:00   88.034500\n",
            "3      2019-12-05 00:00:00+00:00   87.024002\n",
            "4      2019-12-06 00:00:00+00:00   87.580002\n",
            "...                          ...         ...\n",
            "1253   2024-11-22 00:00:00+00:00  197.119995\n",
            "1254   2024-11-25 00:00:00+00:00  201.449997\n",
            "1255   2024-11-26 00:00:00+00:00  207.860001\n",
            "1256   2024-11-27 00:00:00+00:00  205.740005\n",
            "1257   2024-11-29 00:00:00+00:00  207.889999\n",
            "\n",
            "[1258 rows x 2 columns]\n"
          ]
        }
      ]
    },
    {
      "cell_type": "code",
      "source": [
        "device = 'cuda:0' if torch.cuda.is_available() else 'cpu'\n",
        "device"
      ],
      "metadata": {
        "id": "9akB333XcFJ6",
        "colab": {
          "base_uri": "https://localhost:8080/",
          "height": 35
        },
        "outputId": "5d664400-b92d-4c66-c141-097eb3f46df1"
      },
      "id": "9akB333XcFJ6",
      "execution_count": null,
      "outputs": [
        {
          "output_type": "execute_result",
          "data": {
            "text/plain": [
              "'cpu'"
            ],
            "application/vnd.google.colaboratory.intrinsic+json": {
              "type": "string"
            }
          },
          "metadata": {},
          "execution_count": 33
        }
      ]
    },
    {
      "cell_type": "code",
      "source": [
        "# Make the data column pandas date type\n",
        "data['Date'] = pd.to_datetime(data['Date'])\n",
        "\n",
        "plt.plot(data['Date'], data['Close'])"
      ],
      "metadata": {
        "id": "tr2YuqKGcXcJ",
        "colab": {
          "base_uri": "https://localhost:8080/",
          "height": 452
        },
        "outputId": "9f25e664-c07e-4329-a4ec-c9157e6ec007"
      },
      "id": "tr2YuqKGcXcJ",
      "execution_count": null,
      "outputs": [
        {
          "output_type": "execute_result",
          "data": {
            "text/plain": [
              "[<matplotlib.lines.Line2D at 0x7ad82e87fb50>]"
            ]
          },
          "metadata": {},
          "execution_count": 34
        },
        {
          "output_type": "display_data",
          "data": {
            "text/plain": [
              "<Figure size 640x480 with 1 Axes>"
            ],
            "image/png": "[encoded data removed]"
          },
          "metadata": {}
        }
      ]
    },
    {
      "cell_type": "code",
      "source": [
        "from copy import deepcopy as dc\n",
        "\n",
        "def prepare_dataframe_for_lstm(df, n_steps):\n",
        "    df = dc(df)\n",
        "\n",
        "    df.set_index('Date', inplace=True)\n",
        "\n",
        "    for i in range(1, n_steps+1):\n",
        "        df[f'Close(t-{i})'] = df['Close'].shift(i)\n",
        "\n",
        "    df.dropna(inplace=True)\n",
        "\n",
        "    return df\n",
        "\n",
        "lookback = 7\n",
        "shifted_df = prepare_dataframe_for_lstm(data, lookback)\n",
        "shifted_df"
      ],
      "metadata": {
        "id": "Q4ma6QCscwfB",
        "colab": {
          "base_uri": "https://localhost:8080/",
          "height": 486
        },
        "outputId": "3f62ebbd-9f2c-4df6-82bf-bfdcba63f4f3"
      },
      "id": "Q4ma6QCscwfB",
      "execution_count": null,
      "outputs": [
        {
          "output_type": "execute_result",
          "data": {
            "text/plain": [
              "Price                           Close  Close(t-1)  Close(t-2)  Close(t-3)  \\\n",
              "Ticker                           AMZN                                       \n",
              "Date                                                                        \n",
              "2019-12-11 00:00:00+00:00   87.435997   86.960503   87.475502   87.580002   \n",
              "2019-12-12 00:00:00+00:00   88.016502   87.435997   86.960503   87.475502   \n",
              "2019-12-13 00:00:00+00:00   88.046997   88.016502   87.435997   86.960503   \n",
              "2019-12-16 00:00:00+00:00   88.460503   88.046997   88.016502   87.435997   \n",
              "2019-12-17 00:00:00+00:00   89.532997   88.460503   88.046997   88.016502   \n",
              "...                               ...         ...         ...         ...   \n",
              "2024-11-22 00:00:00+00:00  197.119995  198.380005  202.880005  204.610001   \n",
              "2024-11-25 00:00:00+00:00  201.449997  197.119995  198.380005  202.880005   \n",
              "2024-11-26 00:00:00+00:00  207.860001  201.449997  197.119995  198.380005   \n",
              "2024-11-27 00:00:00+00:00  205.740005  207.860001  201.449997  197.119995   \n",
              "2024-11-29 00:00:00+00:00  207.889999  205.740005  207.860001  201.449997   \n",
              "\n",
              "Price                      Close(t-4)  Close(t-5)  Close(t-6)  Close(t-7)  \n",
              "Ticker                                                                     \n",
              "Date                                                                       \n",
              "2019-12-11 00:00:00+00:00   87.024002   88.034500   88.498001   89.080002  \n",
              "2019-12-12 00:00:00+00:00   87.580002   87.024002   88.034500   88.498001  \n",
              "2019-12-13 00:00:00+00:00   87.475502   87.580002   87.024002   88.034500  \n",
              "2019-12-16 00:00:00+00:00   86.960503   87.475502   87.580002   87.024002  \n",
              "2019-12-17 00:00:00+00:00   87.435997   86.960503   87.475502   87.580002  \n",
              "...                               ...         ...         ...         ...  \n",
              "2024-11-22 00:00:00+00:00  201.699997  202.610001  211.479996  214.100006  \n",
              "2024-11-25 00:00:00+00:00  204.610001  201.699997  202.610001  211.479996  \n",
              "2024-11-26 00:00:00+00:00  202.880005  204.610001  201.699997  202.610001  \n",
              "2024-11-27 00:00:00+00:00  198.380005  202.880005  204.610001  201.699997  \n",
              "2024-11-29 00:00:00+00:00  197.119995  198.380005  202.880005  204.610001  \n",
              "\n",
              "[1251 rows x 8 columns]"
            ],
            "text/html": [
              "\n",
              "  <div id=\"df-4b4c3900-399f-4092-8e77-8df24d18fdce\" class=\"colab-df-container\">\n",
              "    <div>\n",
              "<style scoped>\n",
              "    .dataframe tbody tr th:only-of-type {\n",
              "        vertical-align: middle;\n",
              "    }\n",
              "\n",
              "    .dataframe tbody tr th {\n",
              "        vertical-align: top;\n",
              "    }\n",
              "\n",
              "    .dataframe thead tr th {\n",
              "        text-align: left;\n",
              "    }\n",
              "\n",
              "    .dataframe thead tr:last-of-type th {\n",
              "        text-align: right;\n",
              "    }\n",
              "</style>\n",
              "<table border=\"1\" class=\"dataframe\">\n",
              "  <thead>\n",
              "    <tr>\n",
              "      <th>Price</th>\n",
              "      <th>Close</th>\n",
              "      <th>Close(t-1)</th>\n",
              "      <th>Close(t-2)</th>\n",
              "      <th>Close(t-3)</th>\n",
              "      <th>Close(t-4)</th>\n",
              "      <th>Close(t-5)</th>\n",
              "      <th>Close(t-6)</th>\n",
              "      <th>Close(t-7)</th>\n",
              "    </tr>\n",
              "    <tr>\n",
              "      <th>Ticker</th>\n",
              "      <th>AMZN</th>\n",
              "      <th></th>\n",
              "      <th></th>\n",
              "      <th></th>\n",
              "      <th></th>\n",
              "      <th></th>\n",
              "      <th></th>\n",
              "      <th></th>\n",
              "    </tr>\n",
              "    <tr>\n",
              "      <th>Date</th>\n",
              "      <th></th>\n",
              "      <th></th>\n",
              "      <th></th>\n",
              "      <th></th>\n",
              "      <th></th>\n",
              "      <th></th>\n",
              "      <th></th>\n",
              "      <th></th>\n",
              "    </tr>\n",
              "  </thead>\n",
              "  <tbody>\n",
              "    <tr>\n",
              "      <th>2019-12-11 00:00:00+00:00</th>\n",
              "      <td>87.435997</td>\n",
              "      <td>86.960503</td>\n",
              "      <td>87.475502</td>\n",
              "      <td>87.580002</td>\n",
              "      <td>87.024002</td>\n",
              "      <td>88.034500</td>\n",
              "      <td>88.498001</td>\n",
              "      <td>89.080002</td>\n",
              "    </tr>\n",
              "    <tr>\n",
              "      <th>2019-12-12 00:00:00+00:00</th>\n",
              "      <td>88.016502</td>\n",
              "      <td>87.435997</td>\n",
              "      <td>86.960503</td>\n",
              "      <td>87.475502</td>\n",
              "      <td>87.580002</td>\n",
              "      <td>87.024002</td>\n",
              "      <td>88.034500</td>\n",
              "      <td>88.498001</td>\n",
              "    </tr>\n",
              "    <tr>\n",
              "      <th>2019-12-13 00:00:00+00:00</th>\n",
              "      <td>88.046997</td>\n",
              "      <td>88.016502</td>\n",
              "      <td>87.435997</td>\n",
              "      <td>86.960503</td>\n",
              "      <td>87.475502</td>\n",
              "      <td>87.580002</td>\n",
              "      <td>87.024002</td>\n",
              "      <td>88.034500</td>\n",
              "    </tr>\n",
              "    <tr>\n",
              "      <th>2019-12-16 00:00:00+00:00</th>\n",
              "      <td>88.460503</td>\n",
              "      <td>88.046997</td>\n",
              "      <td>88.016502</td>\n",
              "      <td>87.435997</td>\n",
              "      <td>86.960503</td>\n",
              "      <td>87.475502</td>\n",
              "      <td>87.580002</td>\n",
              "      <td>87.024002</td>\n",
              "    </tr>\n",
              "    <tr>\n",
              "      <th>2019-12-17 00:00:00+00:00</th>\n",
              "      <td>89.532997</td>\n",
              "      <td>88.460503</td>\n",
              "      <td>88.046997</td>\n",
              "      <td>88.016502</td>\n",
              "      <td>87.435997</td>\n",
              "      <td>86.960503</td>\n",
              "      <td>87.475502</td>\n",
              "      <td>87.580002</td>\n",
              "    </tr>\n",
              "    <tr>\n",
              "      <th>...</th>\n",
              "      <td>...</td>\n",
              "      <td>...</td>\n",
              "      <td>...</td>\n",
              "      <td>...</td>\n",
              "      <td>...</td>\n",
              "      <td>...</td>\n",
              "      <td>...</td>\n",
              "      <td>...</td>\n",
              "    </tr>\n",
              "    <tr>\n",
              "      <th>2024-11-22 00:00:00+00:00</th>\n",
              "      <td>197.119995</td>\n",
              "      <td>198.380005</td>\n",
              "      <td>202.880005</td>\n",
              "      <td>204.610001</td>\n",
              "      <td>201.699997</td>\n",
              "      <td>202.610001</td>\n",
              "      <td>211.479996</td>\n",
              "      <td>214.100006</td>\n",
              "    </tr>\n",
              "    <tr>\n",
              "      <th>2024-11-25 00:00:00+00:00</th>\n",
              "      <td>201.449997</td>\n",
              "      <td>197.119995</td>\n",
              "      <td>198.380005</td>\n",
              "      <td>202.880005</td>\n",
              "      <td>204.610001</td>\n",
              "      <td>201.699997</td>\n",
              "      <td>202.610001</td>\n",
              "      <td>211.479996</td>\n",
              "    </tr>\n",
              "    <tr>\n",
              "      <th>2024-11-26 00:00:00+00:00</th>\n",
              "      <td>207.860001</td>\n",
              "      <td>201.449997</td>\n",
              "      <td>197.119995</td>\n",
              "      <td>198.380005</td>\n",
              "      <td>202.880005</td>\n",
              "      <td>204.610001</td>\n",
              "      <td>201.699997</td>\n",
              "      <td>202.610001</td>\n",
              "    </tr>\n",
              "    <tr>\n",
              "      <th>2024-11-27 00:00:00+00:00</th>\n",
              "      <td>205.740005</td>\n",
              "      <td>207.860001</td>\n",
              "      <td>201.449997</td>\n",
              "      <td>197.119995</td>\n",
              "      <td>198.380005</td>\n",
              "      <td>202.880005</td>\n",
              "      <td>204.610001</td>\n",
              "      <td>201.699997</td>\n",
              "    </tr>\n",
              "    <tr>\n",
              "      <th>2024-11-29 00:00:00+00:00</th>\n",
              "      <td>207.889999</td>\n",
              "      <td>205.740005</td>\n",
              "      <td>207.860001</td>\n",
              "      <td>201.449997</td>\n",
              "      <td>197.119995</td>\n",
              "      <td>198.380005</td>\n",
              "      <td>202.880005</td>\n",
              "      <td>204.610001</td>\n",
              "    </tr>\n",
              "  </tbody>\n",
              "</table>\n",
              "<p>1251 rows × 8 columns</p>\n",
              "</div>\n",
              "    <div class=\"colab-df-buttons\">\n",
              "\n",
              "  <div class=\"colab-df-container\">\n",
              "    <button class=\"colab-df-convert\" onclick=\"convertToInteractive('df-4b4c3900-399f-4092-8e77-8df24d18fdce')\"\n",
              "            title=\"Convert this dataframe to an interactive table.\"\n",
              "            style=\"display:none;\">\n",
              "\n",
              "  <svg xmlns=\"http://www.w3.org/2000/svg\" height=\"24px\" viewBox=\"0 -960 960 960\">\n",
              "    <path d=\"M120-120v-720h720v720H120Zm60-500h600v-160H180v160Zm220 220h160v-160H400v160Zm0 220h160v-160H400v160ZM180-400h160v-160H180v160Zm440 0h160v-160H620v160ZM180-180h160v-160H180v160Zm440 0h160v-160H620v160Z\"/>\n",
              "  </svg>\n",
              "    </button>\n",
              "\n",
              "  <style>\n",
              "    .colab-df-container {\n",
              "      display:flex;\n",
              "      gap: 12px;\n",
              "    }\n",
              "\n",
              "    .colab-df-convert {\n",
              "      background-color: #E8F0FE;\n",
              "      border: none;\n",
              "      border-radius: 50%;\n",
              "      cursor: pointer;\n",
              "      display: none;\n",
              "      fill: #1967D2;\n",
              "      height: 32px;\n",
              "      padding: 0 0 0 0;\n",
              "      width: 32px;\n",
              "    }\n",
              "\n",
              "    .colab-df-convert:hover {\n",
              "      background-color: #E2EBFA;\n",
              "      box-shadow: 0px 1px 2px rgba(60, 64, 67, 0.3), 0px 1px 3px 1px rgba(60, 64, 67, 0.15);\n",
              "      fill: #174EA6;\n",
              "    }\n",
              "\n",
              "    .colab-df-buttons div {\n",
              "      margin-bottom: 4px;\n",
              "    }\n",
              "\n",
              "    [theme=dark] .colab-df-convert {\n",
              "      background-color: #3B4455;\n",
              "      fill: #D2E3FC;\n",
              "    }\n",
              "\n",
              "    [theme=dark] .colab-df-convert:hover {\n",
              "      background-color: #434B5C;\n",
              "      box-shadow: 0px 1px 3px 1px rgba(0, 0, 0, 0.15);\n",
              "      filter: drop-shadow(0px 1px 2px rgba(0, 0, 0, 0.3));\n",
              "      fill: #FFFFFF;\n",
              "    }\n",
              "  </style>\n",
              "\n",
              "    <script>\n",
              "      const buttonEl =\n",
              "        document.querySelector('#df-4b4c3900-399f-4092-8e77-8df24d18fdce button.colab-df-convert');\n",
              "      buttonEl.style.display =\n",
              "        google.colab.kernel.accessAllowed ? 'block' : 'none';\n",
              "\n",
              "      async function convertToInteractive(key) {\n",
              "        const element = document.querySelector('#df-4b4c3900-399f-4092-8e77-8df24d18fdce');\n",
              "        const dataTable =\n",
              "          await google.colab.kernel.invokeFunction('convertToInteractive',\n",
              "                                                    [key], {});\n",
              "        if (!dataTable) return;\n",
              "\n",
              "        const docLinkHtml = 'Like what you see? Visit the ' +\n",
              "          '<a target=\"_blank\" href=https://colab.research.google.com/notebooks/data_table.ipynb>data table notebook</a>'\n",
              "          + ' to learn more about interactive tables.';\n",
              "        element.innerHTML = '';\n",
              "        dataTable['output_type'] = 'display_data';\n",
              "        await google.colab.output.renderOutput(dataTable, element);\n",
              "        const docLink = document.createElement('div');\n",
              "        docLink.innerHTML = docLinkHtml;\n",
              "        element.appendChild(docLink);\n",
              "      }\n",
              "    </script>\n",
              "  </div>\n",
              "\n",
              "\n",
              "<div id=\"df-a285c747-a5bb-4560-8bb0-ef2144532bda\">\n",
              "  <button class=\"colab-df-quickchart\" onclick=\"quickchart('df-a285c747-a5bb-4560-8bb0-ef2144532bda')\"\n",
              "            title=\"Suggest charts\"\n",
              "            style=\"display:none;\">\n",
              "\n",
              "<svg xmlns=\"http://www.w3.org/2000/svg\" height=\"24px\"viewBox=\"0 0 24 24\"\n",
              "     width=\"24px\">\n",
              "    <g>\n",
              "        <path d=\"M19 3H5c-1.1 0-2 .9-2 2v14c0 1.1.9 2 2 2h14c1.1 0 2-.9 2-2V5c0-1.1-.9-2-2-2zM9 17H7v-7h2v7zm4 0h-2V7h2v10zm4 0h-2v-4h2v4z\"/>\n",
              "    </g>\n",
              "</svg>\n",
              "  </button>\n",
              "\n",
              "<style>\n",
              "  .colab-df-quickchart {\n",
              "      --bg-color: #E8F0FE;\n",
              "      --fill-color: #1967D2;\n",
              "      --hover-bg-color: #E2EBFA;\n",
              "      --hover-fill-color: #174EA6;\n",
              "      --disabled-fill-color: #AAA;\n",
              "      --disabled-bg-color: #DDD;\n",
              "  }\n",
              "\n",
              "  [theme=dark] .colab-df-quickchart {\n",
              "      --bg-color: #3B4455;\n",
              "      --fill-color: #D2E3FC;\n",
              "      --hover-bg-color: #434B5C;\n",
              "      --hover-fill-color: #FFFFFF;\n",
              "      --disabled-bg-color: #3B4455;\n",
              "      --disabled-fill-color: #666;\n",
              "  }\n",
              "\n",
              "  .colab-df-quickchart {\n",
              "    background-color: var(--bg-color);\n",
              "    border: none;\n",
              "    border-radius: 50%;\n",
              "    cursor: pointer;\n",
              "    display: none;\n",
              "    fill: var(--fill-color);\n",
              "    height: 32px;\n",
              "    padding: 0;\n",
              "    width: 32px;\n",
              "  }\n",
              "\n",
              "  .colab-df-quickchart:hover {\n",
              "    background-color: var(--hover-bg-color);\n",
              "    box-shadow: 0 1px 2px rgba(60, 64, 67, 0.3), 0 1px 3px 1px rgba(60, 64, 67, 0.15);\n",
              "    fill: var(--button-hover-fill-color);\n",
              "  }\n",
              "\n",
              "  .colab-df-quickchart-complete:disabled,\n",
              "  .colab-df-quickchart-complete:disabled:hover {\n",
              "    background-color: var(--disabled-bg-color);\n",
              "    fill: var(--disabled-fill-color);\n",
              "    box-shadow: none;\n",
              "  }\n",
              "\n",
              "  .colab-df-spinner {\n",
              "    border: 2px solid var(--fill-color);\n",
              "    border-color: transparent;\n",
              "    border-bottom-color: var(--fill-color);\n",
              "    animation:\n",
              "      spin 1s steps(1) infinite;\n",
              "  }\n",
              "\n",
              "  @keyframes spin {\n",
              "    0% {\n",
              "      border-color: transparent;\n",
              "      border-bottom-color: var(--fill-color);\n",
              "      border-left-color: var(--fill-color);\n",
              "    }\n",
              "    20% {\n",
              "      border-color: transparent;\n",
              "      border-left-color: var(--fill-color);\n",
              "      border-top-color: var(--fill-color);\n",
              "    }\n",
              "    30% {\n",
              "      border-color: transparent;\n",
              "      border-left-color: var(--fill-color);\n",
              "      border-top-color: var(--fill-color);\n",
              "      border-right-color: var(--fill-color);\n",
              "    }\n",
              "    40% {\n",
              "      border-color: transparent;\n",
              "      border-right-color: var(--fill-color);\n",
              "      border-top-color: var(--fill-color);\n",
              "    }\n",
              "    60% {\n",
              "      border-color: transparent;\n",
              "      border-right-color: var(--fill-color);\n",
              "    }\n",
              "    80% {\n",
              "      border-color: transparent;\n",
              "      border-right-color: var(--fill-color);\n",
              "      border-bottom-color: var(--fill-color);\n",
              "    }\n",
              "    90% {\n",
              "      border-color: transparent;\n",
              "      border-bottom-color: var(--fill-color);\n",
              "    }\n",
              "  }\n",
              "</style>\n",
              "\n",
              "  <script>\n",
              "    async function quickchart(key) {\n",
              "      const quickchartButtonEl =\n",
              "        document.querySelector('#' + key + ' button');\n",
              "      quickchartButtonEl.disabled = true;  // To prevent multiple clicks.\n",
              "      quickchartButtonEl.classList.add('colab-df-spinner');\n",
              "      try {\n",
              "        const charts = await google.colab.kernel.invokeFunction(\n",
              "            'suggestCharts', [key], {});\n",
              "      } catch (error) {\n",
              "        console.error('Error during call to suggestCharts:', error);\n",
              "      }\n",
              "      quickchartButtonEl.classList.remove('colab-df-spinner');\n",
              "      quickchartButtonEl.classList.add('colab-df-quickchart-complete');\n",
              "    }\n",
              "    (() => {\n",
              "      let quickchartButtonEl =\n",
              "        document.querySelector('#df-a285c747-a5bb-4560-8bb0-ef2144532bda button');\n",
              "      quickchartButtonEl.style.display =\n",
              "        google.colab.kernel.accessAllowed ? 'block' : 'none';\n",
              "    })();\n",
              "  </script>\n",
              "</div>\n",
              "\n",
              "  <div id=\"id_6babe5d2-20db-41ad-a2ea-69799995ec3a\">\n",
              "    <style>\n",
              "      .colab-df-generate {\n",
              "        background-color: #E8F0FE;\n",
              "        border: none;\n",
              "        border-radius: 50%;\n",
              "        cursor: pointer;\n",
              "        display: none;\n",
              "        fill: #1967D2;\n",
              "        height: 32px;\n",
              "        padding: 0 0 0 0;\n",
              "        width: 32px;\n",
              "      }\n",
              "\n",
              "      .colab-df-generate:hover {\n",
              "        background-color: #E2EBFA;\n",
              "        box-shadow: 0px 1px 2px rgba(60, 64, 67, 0.3), 0px 1px 3px 1px rgba(60, 64, 67, 0.15);\n",
              "        fill: #174EA6;\n",
              "      }\n",
              "\n",
              "      [theme=dark] .colab-df-generate {\n",
              "        background-color: #3B4455;\n",
              "        fill: #D2E3FC;\n",
              "      }\n",
              "\n",
              "      [theme=dark] .colab-df-generate:hover {\n",
              "        background-color: #434B5C;\n",
              "        box-shadow: 0px 1px 3px 1px rgba(0, 0, 0, 0.15);\n",
              "        filter: drop-shadow(0px 1px 2px rgba(0, 0, 0, 0.3));\n",
              "        fill: #FFFFFF;\n",
              "      }\n",
              "    </style>\n",
              "    <button class=\"colab-df-generate\" onclick=\"generateWithVariable('shifted_df')\"\n",
              "            title=\"Generate code using this dataframe.\"\n",
              "            style=\"display:none;\">\n",
              "\n",
              "  <svg xmlns=\"http://www.w3.org/2000/svg\" height=\"24px\"viewBox=\"0 0 24 24\"\n",
              "       width=\"24px\">\n",
              "    <path d=\"M7,19H8.4L18.45,9,17,7.55,7,17.6ZM5,21V16.75L18.45,3.32a2,2,0,0,1,2.83,0l1.4,1.43a1.91,1.91,0,0,1,.58,1.4,1.91,1.91,0,0,1-.58,1.4L9.25,21ZM18.45,9,17,7.55Zm-12,3A5.31,5.31,0,0,0,4.9,8.1,5.31,5.31,0,0,0,1,6.5,5.31,5.31,0,0,0,4.9,4.9,5.31,5.31,0,0,0,6.5,1,5.31,5.31,0,0,0,8.1,4.9,5.31,5.31,0,0,0,12,6.5,5.46,5.46,0,0,0,6.5,12Z\"/>\n",
              "  </svg>\n",
              "    </button>\n",
              "    <script>\n",
              "      (() => {\n",
              "      const buttonEl =\n",
              "        document.querySelector('#id_6babe5d2-20db-41ad-a2ea-69799995ec3a button.colab-df-generate');\n",
              "      buttonEl.style.display =\n",
              "        google.colab.kernel.accessAllowed ? 'block' : 'none';\n",
              "\n",
              "      buttonEl.onclick = () => {\n",
              "        google.colab.notebook.generateWithVariable('shifted_df');\n",
              "      }\n",
              "      })();\n",
              "    </script>\n",
              "  </div>\n",
              "\n",
              "    </div>\n",
              "  </div>\n"
            ],
            "application/vnd.google.colaboratory.intrinsic+json": {
              "type": "dataframe",
              "variable_name": "shifted_df",
              "summary": "{\n  \"name\": \"shifted_df\",\n  \"rows\": 1251,\n  \"fields\": [\n    {\n      \"column\": [\n        \"Date\",\n        \"\"\n      ],\n      \"properties\": {\n        \"dtype\": \"date\",\n        \"min\": \"2019-12-11 00:00:00+00:00\",\n        \"max\": \"2024-11-29 00:00:00+00:00\",\n        \"num_unique_values\": 1251,\n        \"samples\": [\n          \"2022-10-21 00:00:00+00:00\",\n          \"2024-11-19 00:00:00+00:00\",\n          \"2024-03-11 00:00:00+00:00\"\n        ],\n        \"semantic_type\": \"\",\n        \"description\": \"\"\n      }\n    },\n    {\n      \"column\": [\n        \"Close\",\n        \"AMZN\"\n      ],\n      \"properties\": {\n        \"dtype\": \"number\",\n        \"std\": 31.00335302628386,\n        \"min\": 81.81999969482422,\n        \"max\": 214.10000610351562,\n        \"num_unique_values\": 1221,\n        \"samples\": [\n          161.4134979248047,\n          160.3090057373047,\n          107.49349975585938\n        ],\n        \"semantic_type\": \"\",\n        \"description\": \"\"\n      }\n    },\n    {\n      \"column\": [\n        \"Close(t-1)\",\n        \"\"\n      ],\n      \"properties\": {\n        \"dtype\": \"number\",\n        \"std\": 30.994947969300057,\n        \"min\": 81.81999969482422,\n        \"max\": 214.10000610351562,\n        \"num_unique_values\": 1221,\n        \"samples\": [\n          157.9355010986328,\n          160.08250427246094,\n          108.0\n        ],\n        \"semantic_type\": \"\",\n        \"description\": \"\"\n      }\n    },\n    {\n      \"column\": [\n        \"Close(t-2)\",\n        \"\"\n      ],\n      \"properties\": {\n        \"dtype\": \"number\",\n        \"std\": 30.98893001755912,\n        \"min\": 81.81999969482422,\n        \"max\": 214.10000610351562,\n        \"num_unique_values\": 1221,\n        \"samples\": [\n          157.63949584960938,\n          161.8040008544922,\n          107.54000091552734\n        ],\n        \"semantic_type\": \"\",\n        \"description\": \"\"\n      }\n    },\n    {\n      \"column\": [\n        \"Close(t-3)\",\n        \"\"\n      ],\n      \"properties\": {\n        \"dtype\": \"number\",\n        \"std\": 30.97905764422197,\n        \"min\": 81.81999969482422,\n        \"max\": 214.10000610351562,\n        \"num_unique_values\": 1221,\n        \"samples\": [\n          138.8455047607422,\n          162.04800415039062,\n          106.69550323486328\n        ],\n        \"semantic_type\": \"\",\n        \"description\": \"\"\n      }\n    },\n    {\n      \"column\": [\n        \"Close(t-4)\",\n        \"\"\n      ],\n      \"properties\": {\n        \"dtype\": \"number\",\n        \"std\": 30.979679070197214,\n        \"min\": 81.81999969482422,\n        \"max\": 214.10000610351562,\n        \"num_unique_values\": 1221,\n        \"samples\": [\n          150.6125030517578,\n          158.25599670410156,\n          103.96399688720703\n        ],\n        \"semantic_type\": \"\",\n        \"description\": \"\"\n      }\n    },\n    {\n      \"column\": [\n        \"Close(t-5)\",\n        \"\"\n      ],\n      \"properties\": {\n        \"dtype\": \"number\",\n        \"std\": 30.984694881654057,\n        \"min\": 81.81999969482422,\n        \"max\": 214.10000610351562,\n        \"num_unique_values\": 1221,\n        \"samples\": [\n          151.19349670410156,\n          157.84849548339844,\n          102.5114974975586\n        ],\n        \"semantic_type\": \"\",\n        \"description\": \"\"\n      }\n    },\n    {\n      \"column\": [\n        \"Close(t-6)\",\n        \"\"\n      ],\n      \"properties\": {\n        \"dtype\": \"number\",\n        \"std\": 30.987053670621766,\n        \"min\": 81.81999969482422,\n        \"max\": 214.10000610351562,\n        \"num_unique_values\": 1221,\n        \"samples\": [\n          149.57350158691406,\n          155.8209991455078,\n          101.99349975585938\n        ],\n        \"semantic_type\": \"\",\n        \"description\": \"\"\n      }\n    },\n    {\n      \"column\": [\n        \"Close(t-7)\",\n        \"\"\n      ],\n      \"properties\": {\n        \"dtype\": \"number\",\n        \"std\": 30.98176789843413,\n        \"min\": 81.81999969482422,\n        \"max\": 214.10000610351562,\n        \"num_unique_values\": 1221,\n        \"samples\": [\n          143.97799682617188,\n          155.07449340820312,\n          102.4834976196289\n        ],\n        \"semantic_type\": \"\",\n        \"description\": \"\"\n      }\n    }\n  ]\n}"
            }
          },
          "metadata": {},
          "execution_count": 35
        }
      ]
    },
    {
      "cell_type": "code",
      "source": [
        "# Make this numpy\n",
        "shifted_df_as_np = shifted_df.to_numpy()\n",
        "\n",
        "shifted_df_as_np"
      ],
      "metadata": {
        "id": "yWcD1tHjfAU-",
        "colab": {
          "base_uri": "https://localhost:8080/"
        },
        "outputId": "50961573-2c92-4657-a4aa-143f32e4a9dd"
      },
      "id": "yWcD1tHjfAU-",
      "execution_count": null,
      "outputs": [
        {
          "output_type": "execute_result",
          "data": {
            "text/plain": [
              "array([[ 87.43599701,  86.96050262,  87.47550201, ...,  88.03450012,\n",
              "         88.4980011 ,  89.08000183],\n",
              "       [ 88.01650238,  87.43599701,  86.96050262, ...,  87.02400208,\n",
              "         88.03450012,  88.4980011 ],\n",
              "       [ 88.04699707,  88.01650238,  87.43599701, ...,  87.58000183,\n",
              "         87.02400208,  88.03450012],\n",
              "       ...,\n",
              "       [207.86000061, 201.44999695, 197.11999512, ..., 204.61000061,\n",
              "        201.69999695, 202.61000061],\n",
              "       [205.74000549, 207.86000061, 201.44999695, ..., 202.88000488,\n",
              "        204.61000061, 201.69999695],\n",
              "       [207.88999939, 205.74000549, 207.86000061, ..., 198.38000488,\n",
              "        202.88000488, 204.61000061]])"
            ]
          },
          "metadata": {},
          "execution_count": 36
        }
      ]
    },
    {
      "cell_type": "code",
      "source": [
        "shifted_df_as_np.shape"
      ],
      "metadata": {
        "id": "Pq2p3opGELA_",
        "colab": {
          "base_uri": "https://localhost:8080/"
        },
        "outputId": "c2c9751a-4adc-4ee6-8cb9-e6099c8e0756"
      },
      "id": "Pq2p3opGELA_",
      "execution_count": null,
      "outputs": [
        {
          "output_type": "execute_result",
          "data": {
            "text/plain": [
              "(1251, 8)"
            ]
          },
          "metadata": {},
          "execution_count": 37
        }
      ]
    },
    {
      "cell_type": "code",
      "source": [
        "from sklearn.preprocessing import MinMaxScaler\n",
        "\n",
        "scaler = MinMaxScaler(feature_range=(-1, 1))\n",
        "shifted_df_as_np = scaler.fit_transform(shifted_df_as_np)\n",
        "\n",
        "shifted_df_as_np"
      ],
      "metadata": {
        "id": "pXHkuFeafNUU",
        "colab": {
          "base_uri": "https://localhost:8080/"
        },
        "outputId": "6a4cd549-52a8-4c36-a96c-286d475ec586"
      },
      "id": "pXHkuFeafNUU",
      "execution_count": null,
      "outputs": [
        {
          "output_type": "execute_result",
          "data": {
            "text/plain": [
              "array([[-0.91508925, -0.92227846, -0.91449196, ..., -0.90604022,\n",
              "        -0.89903234, -0.89023281],\n",
              "       [-0.90631233, -0.91508925, -0.92227846, ..., -0.92131838,\n",
              "        -0.90604022, -0.89903234],\n",
              "       [-0.90585127, -0.90631233, -0.91508925, ..., -0.91291198,\n",
              "        -0.92131838, -0.90604022],\n",
              "       ...,\n",
              "       [ 0.90565459,  0.80873891,  0.74327169, ...,  0.8565164 ,\n",
              "         0.81251877,  0.82627752],\n",
              "       [ 0.87360145,  0.90565459,  0.80873891, ...,  0.83035983,\n",
              "         0.8565164 ,  0.81251877],\n",
              "       [ 0.90610816,  0.87360145,  0.90565459, ...,  0.76232234,\n",
              "         0.83035983,  0.8565164 ]])"
            ]
          },
          "metadata": {},
          "execution_count": 38
        }
      ]
    },
    {
      "cell_type": "code",
      "source": [
        "X = shifted_df_as_np[:, 1:]\n",
        "y = shifted_df_as_np[:, 0]\n",
        "\n",
        "X.shape, y.shape"
      ],
      "metadata": {
        "id": "Iui9unuTfxOe",
        "colab": {
          "base_uri": "https://localhost:8080/"
        },
        "outputId": "f370e45b-5ecd-46c3-a032-0079fb458972"
      },
      "id": "Iui9unuTfxOe",
      "execution_count": null,
      "outputs": [
        {
          "output_type": "execute_result",
          "data": {
            "text/plain": [
              "((1251, 7), (1251,))"
            ]
          },
          "metadata": {},
          "execution_count": 40
        }
      ]
    },
    {
      "cell_type": "code",
      "source": [
        "# Flipping to make t-7 first\n",
        "X = dc(np.flip(X, axis=1))\n",
        "X"
      ],
      "metadata": {
        "id": "XmbIqwj-E0cv",
        "colab": {
          "base_uri": "https://localhost:8080/"
        },
        "outputId": "1d75df04-b3a8-43fe-991f-5c7d8b7b6877"
      },
      "id": "XmbIqwj-E0cv",
      "execution_count": null,
      "outputs": [
        {
          "output_type": "execute_result",
          "data": {
            "text/plain": [
              "array([[-0.89023281, -0.89903234, -0.90604022, ..., -0.91291198,\n",
              "        -0.91449196, -0.92227846],\n",
              "       [-0.89903234, -0.90604022, -0.92131838, ..., -0.91449196,\n",
              "        -0.92227846, -0.91508925],\n",
              "       [-0.90604022, -0.92131838, -0.91291198, ..., -0.92227846,\n",
              "        -0.91508925, -0.90631233],\n",
              "       ...,\n",
              "       [ 0.82627752,  0.81251877,  0.8565164 , ...,  0.76232234,\n",
              "         0.74327169,  0.80873891],\n",
              "       [ 0.81251877,  0.8565164 ,  0.83035983, ...,  0.74327169,\n",
              "         0.80873891,  0.90565459],\n",
              "       [ 0.8565164 ,  0.83035983,  0.76232234, ...,  0.80873891,\n",
              "         0.90565459,  0.87360145]])"
            ]
          },
          "metadata": {},
          "execution_count": 41
        }
      ]
    },
    {
      "cell_type": "code",
      "source": [
        "split_index = int(len(X) * 0.95)\n",
        "\n",
        "split_index"
      ],
      "metadata": {
        "id": "GCHslawXgE21",
        "colab": {
          "base_uri": "https://localhost:8080/"
        },
        "outputId": "543cac9a-20e3-4a28-ea1a-0f5809f9ce2b"
      },
      "id": "GCHslawXgE21",
      "execution_count": null,
      "outputs": [
        {
          "output_type": "execute_result",
          "data": {
            "text/plain": [
              "1188"
            ]
          },
          "metadata": {},
          "execution_count": 42
        }
      ]
    },
    {
      "cell_type": "code",
      "source": [
        "X_train = X[:split_index]\n",
        "X_test = X[split_index:]\n",
        "\n",
        "y_train = y[:split_index]\n",
        "y_test = y[split_index:]\n",
        "\n",
        "X_train.shape, X_test.shape, y_train.shape, y_test.shape"
      ],
      "metadata": {
        "id": "hhGMh_nAgiST",
        "colab": {
          "base_uri": "https://localhost:8080/"
        },
        "outputId": "29742a84-ea98-40fe-c90c-d39084efe119"
      },
      "id": "hhGMh_nAgiST",
      "execution_count": null,
      "outputs": [
        {
          "output_type": "execute_result",
          "data": {
            "text/plain": [
              "((1188, 7), (63, 7), (1188,), (63,))"
            ]
          },
          "metadata": {},
          "execution_count": 43
        }
      ]
    },
    {
      "cell_type": "code",
      "source": [
        "X_train = X_train.reshape((-1, lookback, 1))\n",
        "X_test = X_test.reshape((-1, lookback, 1))\n",
        "\n",
        "y_train = y_train.reshape((-1, 1))\n",
        "y_test = y_test.reshape((-1, 1))\n",
        "\n",
        "X_train.shape, X_test.shape, y_train.shape, y_test.shape"
      ],
      "metadata": {
        "id": "Muqs9hKYhMUS",
        "colab": {
          "base_uri": "https://localhost:8080/"
        },
        "outputId": "d73ba211-bb1a-4e6f-a74f-e32091a278ae"
      },
      "id": "Muqs9hKYhMUS",
      "execution_count": null,
      "outputs": [
        {
          "output_type": "execute_result",
          "data": {
            "text/plain": [
              "((1188, 7, 1), (63, 7, 1), (1188, 1), (63, 1))"
            ]
          },
          "metadata": {},
          "execution_count": 44
        }
      ]
    },
    {
      "cell_type": "code",
      "source": [
        "X_train = torch.tensor(X_train).float()\n",
        "y_train = torch.tensor(y_train).float()\n",
        "X_test = torch.tensor(X_test).float()\n",
        "y_test = torch.tensor(y_test).float()\n",
        "\n",
        "X_train.shape, X_test.shape, y_train.shape, y_test.shape"
      ],
      "metadata": {
        "id": "i7-PBcrMhR7z",
        "colab": {
          "base_uri": "https://localhost:8080/"
        },
        "outputId": "08a0c0de-c77e-4fa4-a030-e9e9ee4f94a2"
      },
      "id": "i7-PBcrMhR7z",
      "execution_count": null,
      "outputs": [
        {
          "output_type": "execute_result",
          "data": {
            "text/plain": [
              "(torch.Size([1188, 7, 1]),\n",
              " torch.Size([63, 7, 1]),\n",
              " torch.Size([1188, 1]),\n",
              " torch.Size([63, 1]))"
            ]
          },
          "metadata": {},
          "execution_count": 45
        }
      ]
    },
    {
      "cell_type": "code",
      "source": [
        "from torch.utils.data import Dataset\n",
        "\n",
        "class TimeSeriesDataset(Dataset):\n",
        "    def __init__(self, X, y):\n",
        "        self.X = X\n",
        "        self.y = y\n",
        "\n",
        "    def __len__(self):\n",
        "        return len(self.X)\n",
        "\n",
        "    def __getitem__(self, i):\n",
        "        return self.X[i], self.y[i]\n",
        "\n",
        "train_dataset = TimeSeriesDataset(X_train, y_train)\n",
        "test_dataset = TimeSeriesDataset(X_test, y_test)"
      ],
      "metadata": {
        "id": "DWutCAGKhdqU"
      },
      "id": "DWutCAGKhdqU",
      "execution_count": null,
      "outputs": []
    },
    {
      "cell_type": "code",
      "source": [
        "train_dataset"
      ],
      "metadata": {
        "id": "12OWUTa5ijoq",
        "colab": {
          "base_uri": "https://localhost:8080/"
        },
        "outputId": "bd7f8d10-4bfb-47a9-a715-371256808ef3"
      },
      "id": "12OWUTa5ijoq",
      "execution_count": null,
      "outputs": [
        {
          "output_type": "execute_result",
          "data": {
            "text/plain": [
              "<__main__.TimeSeriesDataset at 0x7ad82e16ee30>"
            ]
          },
          "metadata": {},
          "execution_count": 47
        }
      ]
    },
    {
      "cell_type": "code",
      "source": [
        "from torch.utils.data import DataLoader\n",
        "\n",
        "batch_size = 16\n",
        "\n",
        "train_loader = DataLoader(train_dataset, batch_size=batch_size, shuffle=True)\n",
        "test_loader = DataLoader(test_dataset, batch_size=batch_size, shuffle=False)"
      ],
      "metadata": {
        "id": "XYsUmPl3ik46"
      },
      "id": "XYsUmPl3ik46",
      "execution_count": null,
      "outputs": []
    },
    {
      "cell_type": "code",
      "source": [
        "for _, batch in enumerate(train_loader):\n",
        "    x_batch, y_batch = batch[0].to(device), batch[1].to(device)\n",
        "    print(x_batch.shape, y_batch.shape)\n",
        "    break"
      ],
      "metadata": {
        "id": "TJTnbgBDjOSK",
        "colab": {
          "base_uri": "https://localhost:8080/"
        },
        "outputId": "0a7f467f-6d7a-40f1-d228-3362b141f8c6"
      },
      "id": "TJTnbgBDjOSK",
      "execution_count": null,
      "outputs": [
        {
          "output_type": "stream",
          "name": "stdout",
          "text": [
            "torch.Size([16, 7, 1]) torch.Size([16, 1])\n"
          ]
        }
      ]
    },
    {
      "cell_type": "code",
      "source": [
        "import torch\n",
        "import torch.nn as nn\n",
        "\n",
        "class RNN(nn.Module):\n",
        "    def __init__(self, input_size, hidden_size, num_stacked_layers):\n",
        "        super().__init__()\n",
        "        self.hidden_size = hidden_size\n",
        "        self.num_stacked_layers = num_stacked_layers\n",
        "\n",
        "        # Replace LSTM with RNN\n",
        "        self.rnn = nn.RNN(input_size, hidden_size, num_stacked_layers, batch_first=True)\n",
        "\n",
        "        self.fc = nn.Linear(hidden_size, 1)\n",
        "\n",
        "    def forward(self, x):\n",
        "        batch_size = x.size(0)\n",
        "        h0 = torch.zeros(self.num_stacked_layers, batch_size, self.hidden_size).to(device)\n",
        "\n",
        "        out, _ = self.rnn(x, h0)  # Note the change here: RNN only needs h0\n",
        "        out = self.fc(out[:, -1, :])\n",
        "        return out\n",
        "\n",
        "# Example usage\n",
        "model_rnn = RNN(1, 4, 1)\n",
        "model_rnn.to(device)\n"
      ],
      "metadata": {
        "id": "zJrwRJl0M1zY",
        "colab": {
          "base_uri": "https://localhost:8080/"
        },
        "outputId": "8537c171-0ed2-4f75-dd6e-d53db9fa1e9f"
      },
      "id": "zJrwRJl0M1zY",
      "execution_count": null,
      "outputs": [
        {
          "output_type": "execute_result",
          "data": {
            "text/plain": [
              "RNN(\n",
              "  (rnn): RNN(1, 4, batch_first=True)\n",
              "  (fc): Linear(in_features=4, out_features=1, bias=True)\n",
              ")"
            ]
          },
          "metadata": {},
          "execution_count": 52
        }
      ]
    },
    {
      "cell_type": "code",
      "source": [
        "def train_one_epoch():\n",
        "    model_rnn.train(True)\n",
        "    print(f'Epoch: {epoch + 1}')\n",
        "    running_loss = 0.0\n",
        "\n",
        "    for batch_index, batch in enumerate(train_loader):\n",
        "        x_batch, y_batch = batch[0].to(device), batch[1].to(device)\n",
        "\n",
        "        output = model_rnn(x_batch)\n",
        "        loss = loss_function(output, y_batch)\n",
        "        running_loss += loss.item()\n",
        "\n",
        "        optimizer.zero_grad()\n",
        "        loss.backward()\n",
        "        optimizer.step()\n",
        "\n",
        "        if batch_index % 100 == 99:  # print every 100 batches\n",
        "            avg_loss_across_batches = running_loss / 100\n",
        "            print('Batch {0}, Loss: {1:.3f}'.format(batch_index+1,\n",
        "                                                    avg_loss_across_batches))\n",
        "            running_loss = 0.0\n",
        "    print()"
      ],
      "metadata": {
        "id": "t7SocgRENApI"
      },
      "id": "t7SocgRENApI",
      "execution_count": null,
      "outputs": []
    },
    {
      "cell_type": "code",
      "source": [
        "def validate_one_epoch():\n",
        "    model_rnn.train(False)\n",
        "    running_loss = 0.0\n",
        "\n",
        "    for batch_index, batch in enumerate(test_loader):\n",
        "        x_batch, y_batch = batch[0].to(device), batch[1].to(device)\n",
        "\n",
        "        with torch.no_grad():\n",
        "            output = model_rnn(x_batch)\n",
        "            loss = loss_function(output, y_batch)\n",
        "            running_loss += loss.item()\n",
        "\n",
        "    avg_loss_across_batches = running_loss / len(test_loader)\n",
        "\n",
        "    print('Val Loss: {0:.3f}'.format(avg_loss_across_batches))\n",
        "    print('***************************************************')\n",
        "    print()"
      ],
      "metadata": {
        "id": "4PhIhYfBNH1P"
      },
      "id": "4PhIhYfBNH1P",
      "execution_count": null,
      "outputs": []
    },
    {
      "cell_type": "code",
      "source": [
        "learning_rate = 0.001\n",
        "num_epochs = 50\n",
        "loss_function = nn.MSELoss()\n",
        "optimizer = torch.optim.Adam(model_rnn.parameters(), lr=learning_rate)\n",
        "\n",
        "for epoch in range(num_epochs):\n",
        "    train_one_epoch()\n",
        "    validate_one_epoch()"
      ],
      "metadata": {
        "id": "JBQWOxR3NN_L",
        "colab": {
          "base_uri": "https://localhost:8080/"
        },
        "outputId": "6fd3b59e-faaf-4d6d-8763-a3fd10111cc3"
      },
      "id": "JBQWOxR3NN_L",
      "execution_count": null,
      "outputs": [
        {
          "output_type": "stream",
          "name": "stdout",
          "text": [
            "Epoch: 1\n",
            "\n",
            "Val Loss: 0.346\n",
            "***************************************************\n",
            "\n",
            "Epoch: 2\n",
            "\n",
            "Val Loss: 0.423\n",
            "***************************************************\n",
            "\n",
            "Epoch: 3\n",
            "\n",
            "Val Loss: 0.240\n",
            "***************************************************\n",
            "\n",
            "Epoch: 4\n",
            "\n",
            "Val Loss: 0.011\n",
            "***************************************************\n",
            "\n",
            "Epoch: 5\n",
            "\n",
            "Val Loss: 0.009\n",
            "***************************************************\n",
            "\n",
            "Epoch: 6\n",
            "\n",
            "Val Loss: 0.009\n",
            "***************************************************\n",
            "\n",
            "Epoch: 7\n",
            "\n",
            "Val Loss: 0.011\n",
            "***************************************************\n",
            "\n",
            "Epoch: 8\n",
            "\n",
            "Val Loss: 0.012\n",
            "***************************************************\n",
            "\n",
            "Epoch: 9\n",
            "\n",
            "Val Loss: 0.010\n",
            "***************************************************\n",
            "\n",
            "Epoch: 10\n",
            "\n",
            "Val Loss: 0.011\n",
            "***************************************************\n",
            "\n",
            "Epoch: 11\n",
            "\n",
            "Val Loss: 0.011\n",
            "***************************************************\n",
            "\n",
            "Epoch: 12\n",
            "\n",
            "Val Loss: 0.011\n",
            "***************************************************\n",
            "\n",
            "Epoch: 13\n",
            "\n",
            "Val Loss: 0.009\n",
            "***************************************************\n",
            "\n",
            "Epoch: 14\n",
            "\n",
            "Val Loss: 0.011\n",
            "***************************************************\n",
            "\n",
            "Epoch: 15\n",
            "\n",
            "Val Loss: 0.009\n",
            "***************************************************\n",
            "\n",
            "Epoch: 16\n",
            "\n",
            "Val Loss: 0.006\n",
            "***************************************************\n",
            "\n",
            "Epoch: 17\n",
            "\n",
            "Val Loss: 0.009\n",
            "***************************************************\n",
            "\n",
            "Epoch: 18\n",
            "\n",
            "Val Loss: 0.007\n",
            "***************************************************\n",
            "\n",
            "Epoch: 19\n",
            "\n",
            "Val Loss: 0.008\n",
            "***************************************************\n",
            "\n",
            "Epoch: 20\n",
            "\n",
            "Val Loss: 0.006\n",
            "***************************************************\n",
            "\n",
            "Epoch: 21\n",
            "\n",
            "Val Loss: 0.005\n",
            "***************************************************\n",
            "\n",
            "Epoch: 22\n",
            "\n",
            "Val Loss: 0.006\n",
            "***************************************************\n",
            "\n",
            "Epoch: 23\n",
            "\n",
            "Val Loss: 0.006\n",
            "***************************************************\n",
            "\n",
            "Epoch: 24\n",
            "\n",
            "Val Loss: 0.005\n",
            "***************************************************\n",
            "\n",
            "Epoch: 25\n",
            "\n",
            "Val Loss: 0.005\n",
            "***************************************************\n",
            "\n",
            "Epoch: 26\n",
            "\n",
            "Val Loss: 0.004\n",
            "***************************************************\n",
            "\n",
            "Epoch: 27\n",
            "\n",
            "Val Loss: 0.004\n",
            "***************************************************\n",
            "\n",
            "Epoch: 28\n",
            "\n",
            "Val Loss: 0.005\n",
            "***************************************************\n",
            "\n",
            "Epoch: 29\n",
            "\n",
            "Val Loss: 0.004\n",
            "***************************************************\n",
            "\n",
            "Epoch: 30\n",
            "\n",
            "Val Loss: 0.003\n",
            "***************************************************\n",
            "\n",
            "Epoch: 31\n",
            "\n",
            "Val Loss: 0.005\n",
            "***************************************************\n",
            "\n",
            "Epoch: 32\n",
            "\n",
            "Val Loss: 0.004\n",
            "***************************************************\n",
            "\n",
            "Epoch: 33\n",
            "\n",
            "Val Loss: 0.004\n",
            "***************************************************\n",
            "\n",
            "Epoch: 34\n",
            "\n",
            "Val Loss: 0.005\n",
            "***************************************************\n",
            "\n",
            "Epoch: 35\n",
            "\n",
            "Val Loss: 0.004\n",
            "***************************************************\n",
            "\n",
            "Epoch: 36\n",
            "\n",
            "Val Loss: 0.004\n",
            "***************************************************\n",
            "\n",
            "Epoch: 37\n",
            "\n",
            "Val Loss: 0.004\n",
            "***************************************************\n",
            "\n",
            "Epoch: 38\n",
            "\n",
            "Val Loss: 0.004\n",
            "***************************************************\n",
            "\n",
            "Epoch: 39\n",
            "\n",
            "Val Loss: 0.005\n",
            "***************************************************\n",
            "\n",
            "Epoch: 40\n",
            "\n",
            "Val Loss: 0.004\n",
            "***************************************************\n",
            "\n",
            "Epoch: 41\n",
            "\n",
            "Val Loss: 0.004\n",
            "***************************************************\n",
            "\n",
            "Epoch: 42\n",
            "\n",
            "Val Loss: 0.004\n",
            "***************************************************\n",
            "\n",
            "Epoch: 43\n",
            "\n",
            "Val Loss: 0.003\n",
            "***************************************************\n",
            "\n",
            "Epoch: 44\n",
            "\n",
            "Val Loss: 0.004\n",
            "***************************************************\n",
            "\n",
            "Epoch: 45\n",
            "\n",
            "Val Loss: 0.004\n",
            "***************************************************\n",
            "\n",
            "Epoch: 46\n",
            "\n",
            "Val Loss: 0.003\n",
            "***************************************************\n",
            "\n",
            "Epoch: 47\n",
            "\n",
            "Val Loss: 0.004\n",
            "***************************************************\n",
            "\n",
            "Epoch: 48\n",
            "\n",
            "Val Loss: 0.004\n",
            "***************************************************\n",
            "\n",
            "Epoch: 49\n",
            "\n",
            "Val Loss: 0.003\n",
            "***************************************************\n",
            "\n",
            "Epoch: 50\n",
            "\n",
            "Val Loss: 0.003\n",
            "***************************************************\n",
            "\n"
          ]
        }
      ]
    },
    {
      "cell_type": "code",
      "source": [
        "with torch.no_grad():\n",
        "    predicted_rnn = model_rnn(X_train.to(device)).to('cpu').numpy()\n",
        "\n",
        "plt.plot(y_train, label='Actual Close')\n",
        "plt.plot(predicted_rnn, label='Predicted Close')\n",
        "plt.xlabel('Day')\n",
        "plt.ylabel('Close')\n",
        "plt.legend()\n",
        "plt.show()\n"
      ],
      "metadata": {
        "id": "xattNQ9ANozG",
        "colab": {
          "base_uri": "https://localhost:8080/",
          "height": 449
        },
        "outputId": "a46694c6-13cb-48d3-f764-14b1007f1433"
      },
      "id": "xattNQ9ANozG",
      "execution_count": null,
      "outputs": [
        {
          "output_type": "display_data",
          "data": {
            "text/plain": [
              "<Figure size 640x480 with 1 Axes>"
            ],
            "image/png": "[encoded data removed]"
          },
          "metadata": {}
        }
      ]
    },
    {
      "cell_type": "code",
      "source": [
        "train_predictions_rnn = predicted_rnn.flatten()\n",
        "\n",
        "dummies = np.zeros((X_train.shape[0], lookback+1))\n",
        "dummies[:, 0] = train_predictions_rnn\n",
        "dummies = scaler.inverse_transform(dummies)\n",
        "\n",
        "train_predictions_rnn = dc(dummies[:, 0])\n",
        "train_predictions_rnn"
      ],
      "metadata": {
        "id": "uzYvGja4N3zl",
        "colab": {
          "base_uri": "https://localhost:8080/"
        },
        "outputId": "7431ca59-acf2-4274-c277-ab12bf76f256"
      },
      "id": "uzYvGja4N3zl",
      "execution_count": null,
      "outputs": [
        {
          "output_type": "execute_result",
          "data": {
            "text/plain": [
              "array([ 89.32305813,  89.42860008,  89.72374856, ..., 174.03958856,\n",
              "       171.83191792, 172.33733426])"
            ]
          },
          "metadata": {},
          "execution_count": 57
        }
      ]
    },
    {
      "cell_type": "code",
      "source": [
        "dummies = np.zeros((X_train.shape[0], lookback+1))\n",
        "dummies[:, 0] = y_train.flatten()\n",
        "dummies = scaler.inverse_transform(dummies)\n",
        "\n",
        "new_y_train_rnn = dc(dummies[:, 0])\n",
        "new_y_train_rnn"
      ],
      "metadata": {
        "id": "IsdGVjvkOKS5",
        "colab": {
          "base_uri": "https://localhost:8080/"
        },
        "outputId": "8ce0b0ca-b5b7-413f-bcbb-89ab3f83affb"
      },
      "id": "IsdGVjvkOKS5",
      "execution_count": null,
      "outputs": [
        {
          "output_type": "execute_result",
          "data": {
            "text/plain": [
              "array([ 87.435997  ,  88.0165014 ,  88.04699866, ..., 170.80000208,\n",
              "       172.11999597, 178.49999962])"
            ]
          },
          "metadata": {},
          "execution_count": 58
        }
      ]
    },
    {
      "cell_type": "code",
      "source": [
        "plt.plot(new_y_train_rnn, label='Actual Close')\n",
        "plt.plot(train_predictions_rnn, label='Predicted Close')\n",
        "plt.xlabel('Day')\n",
        "plt.ylabel('Close')\n",
        "plt.legend()\n",
        "plt.show()"
      ],
      "metadata": {
        "id": "EHd1kMv4OTcq",
        "colab": {
          "base_uri": "https://localhost:8080/",
          "height": 449
        },
        "outputId": "10abdeec-a093-486e-d01a-dcbdde8c1982"
      },
      "id": "EHd1kMv4OTcq",
      "execution_count": null,
      "outputs": [
        {
          "output_type": "display_data",
          "data": {
            "text/plain": [
              "<Figure size 640x480 with 1 Axes>"
            ],
            "image/png": "[encoded data removed]"
          },
          "metadata": {}
        }
      ]
    },
    {
      "cell_type": "code",
      "source": [
        "test_predictions_rnn = model_rnn(X_test.to(device)).detach().cpu().numpy().flatten()\n",
        "\n",
        "dummies = np.zeros((X_test.shape[0], lookback+1))\n",
        "dummies[:, 0] = test_predictions_rnn\n",
        "dummies = scaler.inverse_transform(dummies)\n",
        "\n",
        "test_predictions_rnn = dc(dummies[:, 0])\n",
        "test_predictions_rnn"
      ],
      "metadata": {
        "id": "wqNmMQBBOjYt",
        "colab": {
          "base_uri": "https://localhost:8080/"
        },
        "outputId": "0e6454e3-a144-4559-d05d-817f36bc49a7"
      },
      "id": "wqNmMQBBOjYt",
      "execution_count": null,
      "outputs": [
        {
          "output_type": "execute_result",
          "data": {
            "text/plain": [
              "array([177.02812655, 176.28749972, 174.30019108, 177.12755802,\n",
              "       172.75951193, 175.17890709, 178.26585945, 182.84469378,\n",
              "       185.46775748, 185.84733715, 184.79847751, 186.08732959,\n",
              "       185.89187277, 188.51855151, 190.09170298, 192.21656072,\n",
              "       192.58846483, 191.78133222, 190.63834739, 188.10793054,\n",
              "       186.47291726, 185.17018451, 184.64876263, 182.42358249,\n",
              "       185.40709411, 181.50393802, 182.60357386, 184.12766796,\n",
              "       185.74890702, 187.5736924 , 187.05056353, 187.17635683,\n",
              "       186.51277342, 186.944446  , 187.99670386, 188.28650665,\n",
              "       188.84376754, 185.27750837, 186.00633209, 186.86407138,\n",
              "       187.61065101, 189.47736618, 191.19334148, 186.96750817,\n",
              "       194.759372  , 193.93449926, 197.29286775, 202.56797463,\n",
              "       205.67691292, 205.0098288 , 204.17542764, 205.37979726,\n",
              "       208.92416905, 207.7079845 , 201.82415852, 200.29872011,\n",
              "       201.71298703, 200.74551912, 197.59005437, 196.17942615,\n",
              "       198.82208677, 203.54512866, 202.90630259])"
            ]
          },
          "metadata": {},
          "execution_count": 61
        }
      ]
    },
    {
      "cell_type": "code",
      "source": [
        "dummies = np.zeros((X_test.shape[0], lookback+1))\n",
        "dummies[:, 0] = y_test.flatten()\n",
        "dummies = scaler.inverse_transform(dummies)\n",
        "\n",
        "new_y_test_rnn = dc(dummies[:, 0])\n",
        "new_y_test_rnn"
      ],
      "metadata": {
        "id": "lrfLfwxiOwz4",
        "colab": {
          "base_uri": "https://localhost:8080/"
        },
        "outputId": "fcebc199-ff67-4be4-cbe5-ea434373de40"
      },
      "id": "lrfLfwxiOwz4",
      "execution_count": null,
      "outputs": [
        {
          "output_type": "execute_result",
          "data": {
            "text/plain": [
              "array([176.24999906, 173.33000104, 177.88999929, 171.38999942,\n",
              "       175.39999447, 179.55000251, 184.52000476, 187.00000021,\n",
              "       186.49000692, 184.89000082, 186.88000596, 186.42999402,\n",
              "       189.86999471, 191.60000443, 193.88000552, 193.96000563,\n",
              "       192.5299973 , 191.16000186, 187.97000299, 186.33000276,\n",
              "       185.13000509, 184.75999326, 181.96000526, 186.50999413,\n",
              "       180.8000037 , 182.72000037, 185.16999923, 186.6499953 ,\n",
              "       188.82000759, 187.53999404, 187.69000065, 186.88999957,\n",
              "       187.53000043, 188.99000535, 189.07000546, 189.69999694,\n",
              "       184.71000551, 186.38000628, 187.83000182, 188.38999863,\n",
              "       190.82999994, 192.7299956 , 186.39999349, 197.92999076,\n",
              "       195.77999723, 199.50000027, 207.08999717, 210.05000115,\n",
              "       208.1799942 , 206.83999535, 208.91000454, 214.1000061 ,\n",
              "       211.47999765, 202.60999903, 201.69999731, 204.61000172,\n",
              "       202.88000383, 198.38000664, 197.11999608, 201.4499955 ,\n",
              "       207.86000165, 205.74000472, 207.88999824])"
            ]
          },
          "metadata": {},
          "execution_count": 62
        }
      ]
    },
    {
      "cell_type": "code",
      "source": [
        "plt.plot(new_y_test_rnn, label='Actual Close')\n",
        "plt.plot(test_predictions_rnn, label='Predicted Close')\n",
        "plt.xlabel('Day')\n",
        "plt.ylabel('Close')\n",
        "plt.legend()\n",
        "plt.show()\n"
      ],
      "metadata": {
        "id": "n_Mko5B0O92v",
        "colab": {
          "base_uri": "https://localhost:8080/",
          "height": 449
        },
        "outputId": "0557bdc7-330f-467e-c029-800f99db92bd"
      },
      "id": "n_Mko5B0O92v",
      "execution_count": null,
      "outputs": [
        {
          "output_type": "display_data",
          "data": {
            "text/plain": [
              "<Figure size 640x480 with 1 Axes>"
            ],
            "image/png": "[encoded data removed]"
          },
          "metadata": {}
        }
      ]
    },
    {
      "cell_type": "markdown",
      "source": [
        "### LSTM"
      ],
      "metadata": {
        "id": "4HmFXnysOWiW"
      },
      "id": "4HmFXnysOWiW"
    },
    {
      "cell_type": "code",
      "source": [
        "class LSTM(nn.Module):\n",
        "    def __init__(self, input_size, hidden_size, num_stacked_layers):\n",
        "        super().__init__()\n",
        "        self.hidden_size = hidden_size\n",
        "        self.num_stacked_layers = num_stacked_layers\n",
        "\n",
        "        self.lstm = nn.LSTM(input_size, hidden_size, num_stacked_layers,\n",
        "                            batch_first=True)\n",
        "\n",
        "        self.fc = nn.Linear(hidden_size, 1)\n",
        "\n",
        "    def forward(self, x):\n",
        "        batch_size = x.size(0)\n",
        "        h0 = torch.zeros(self.num_stacked_layers, batch_size, self.hidden_size).to(device)\n",
        "        c0 = torch.zeros(self.num_stacked_layers, batch_size, self.hidden_size).to(device)\n",
        "\n",
        "        out, _ = self.lstm(x, (h0, c0))\n",
        "        out = self.fc(out[:, -1, :])\n",
        "        return out\n",
        "\n",
        "model = LSTM(1, 4, 1)\n",
        "model.to(device)\n",
        "model"
      ],
      "metadata": {
        "id": "njdkq_kmjib5"
      },
      "id": "njdkq_kmjib5",
      "execution_count": null,
      "outputs": []
    },
    {
      "cell_type": "code",
      "source": [
        "def train_one_epoch():\n",
        "    model.train(True)\n",
        "    print(f'Epoch: {epoch + 1}')\n",
        "    running_loss = 0.0\n",
        "\n",
        "    for batch_index, batch in enumerate(train_loader):\n",
        "        x_batch, y_batch = batch[0].to(device), batch[1].to(device)\n",
        "\n",
        "        output = model(x_batch)\n",
        "        loss = loss_function(output, y_batch)\n",
        "        running_loss += loss.item()\n",
        "\n",
        "        optimizer.zero_grad()\n",
        "        loss.backward()\n",
        "        optimizer.step()\n",
        "\n",
        "        if batch_index % 100 == 99:  # print every 100 batches\n",
        "            avg_loss_across_batches = running_loss / 100\n",
        "            print('Batch {0}, Loss: {1:.3f}'.format(batch_index+1,\n",
        "                                                    avg_loss_across_batches))\n",
        "            running_loss = 0.0\n",
        "    print()"
      ],
      "metadata": {
        "id": "iue5WvTxmVKB"
      },
      "id": "iue5WvTxmVKB",
      "execution_count": null,
      "outputs": []
    },
    {
      "cell_type": "code",
      "source": [
        "def validate_one_epoch():\n",
        "    model.train(False)\n",
        "    running_loss = 0.0\n",
        "\n",
        "    for batch_index, batch in enumerate(test_loader):\n",
        "        x_batch, y_batch = batch[0].to(device), batch[1].to(device)\n",
        "\n",
        "        with torch.no_grad():\n",
        "            output = model(x_batch)\n",
        "            loss = loss_function(output, y_batch)\n",
        "            running_loss += loss.item()\n",
        "\n",
        "    avg_loss_across_batches = running_loss / len(test_loader)\n",
        "\n",
        "    print('Val Loss: {0:.3f}'.format(avg_loss_across_batches))\n",
        "    print('***************************************************')\n",
        "    print()"
      ],
      "metadata": {
        "id": "gRmNuV3cmy-t"
      },
      "id": "gRmNuV3cmy-t",
      "execution_count": null,
      "outputs": []
    },
    {
      "cell_type": "code",
      "source": [
        "learning_rate = 0.001\n",
        "num_epochs = 30\n",
        "loss_function = nn.MSELoss()\n",
        "optimizer = torch.optim.Adam(model.parameters(), lr=learning_rate)\n",
        "\n",
        "for epoch in range(num_epochs):\n",
        "    train_one_epoch()\n",
        "    validate_one_epoch()"
      ],
      "metadata": {
        "id": "1jgb1aJ3lxlQ"
      },
      "id": "1jgb1aJ3lxlQ",
      "execution_count": null,
      "outputs": []
    },
    {
      "cell_type": "code",
      "source": [
        "with torch.no_grad():\n",
        "    predicted = model(X_train.to(device)).to('cpu').numpy()\n",
        "\n",
        "plt.plot(y_train, label='Actual Close')\n",
        "plt.plot(predicted, label='Predicted Close')\n",
        "plt.xlabel('Day')\n",
        "plt.ylabel('Close')\n",
        "plt.legend()\n",
        "plt.show()\n"
      ],
      "metadata": {
        "id": "-Xon2PHWno7t"
      },
      "id": "-Xon2PHWno7t",
      "execution_count": null,
      "outputs": []
    },
    {
      "cell_type": "code",
      "source": [
        "train_predictions = predicted.flatten()\n",
        "\n",
        "dummies = np.zeros((X_train.shape[0], lookback+1))\n",
        "dummies[:, 0] = train_predictions\n",
        "dummies = scaler.inverse_transform(dummies)\n",
        "\n",
        "train_predictions = dc(dummies[:, 0])\n",
        "train_predictions"
      ],
      "metadata": {
        "id": "d3SDgEvPpOcD"
      },
      "id": "d3SDgEvPpOcD",
      "execution_count": null,
      "outputs": []
    },
    {
      "cell_type": "code",
      "source": [
        "dummies = np.zeros((X_train.shape[0], lookback+1))\n",
        "dummies[:, 0] = y_train.flatten()\n",
        "dummies = scaler.inverse_transform(dummies)\n",
        "\n",
        "new_y_train = dc(dummies[:, 0])\n",
        "new_y_train"
      ],
      "metadata": {
        "id": "PHnvejOdrL7Q"
      },
      "id": "PHnvejOdrL7Q",
      "execution_count": null,
      "outputs": []
    },
    {
      "cell_type": "code",
      "source": [
        "plt.plot(new_y_train, label='Actual Close')\n",
        "plt.plot(train_predictions, label='Predicted Close')\n",
        "plt.xlabel('Day')\n",
        "plt.ylabel('Close')\n",
        "plt.legend()\n",
        "plt.show()\n"
      ],
      "metadata": {
        "id": "2LlDAUtyrcrN"
      },
      "id": "2LlDAUtyrcrN",
      "execution_count": null,
      "outputs": []
    },
    {
      "cell_type": "code",
      "source": [
        "test_predictions = model(X_test.to(device)).detach().cpu().numpy().flatten()\n",
        "\n",
        "dummies = np.zeros((X_test.shape[0], lookback+1))\n",
        "dummies[:, 0] = test_predictions\n",
        "dummies = scaler.inverse_transform(dummies)\n",
        "\n",
        "test_predictions = dc(dummies[:, 0])\n",
        "test_predictions"
      ],
      "metadata": {
        "id": "yYeC2JMorftR"
      },
      "id": "yYeC2JMorftR",
      "execution_count": null,
      "outputs": []
    },
    {
      "cell_type": "code",
      "source": [
        "dummies = np.zeros((X_test.shape[0], lookback+1))\n",
        "dummies[:, 0] = y_test.flatten()\n",
        "dummies = scaler.inverse_transform(dummies)\n",
        "\n",
        "new_y_test = dc(dummies[:, 0])\n",
        "new_y_test"
      ],
      "metadata": {
        "id": "g-DJXBgYsFyI"
      },
      "id": "g-DJXBgYsFyI",
      "execution_count": null,
      "outputs": []
    },
    {
      "cell_type": "code",
      "source": [
        "plt.plot(new_y_test, label='Actual Close')\n",
        "plt.plot(test_predictions, label='Predicted Close')\n",
        "plt.xlabel('Day')\n",
        "plt.ylabel('Close')\n",
        "plt.legend()\n",
        "plt.show()\n"
      ],
      "metadata": {
        "id": "PhLmIlHOsSK4"
      },
      "id": "PhLmIlHOsSK4",
      "execution_count": null,
      "outputs": []
    },
    {
      "cell_type": "code",
      "source": [],
      "metadata": {
        "id": "-CuelDg2seDP"
      },
      "id": "-CuelDg2seDP",
      "execution_count": null,
      "outputs": []
    }
  ],
  "metadata": {
    "kernelspec": {
      "display_name": "Python 3",
      "name": "python3"
    },
    "language_info": {
      "name": "python"
    },
    "colab": {
      "provenance": [],
      "gpuType": "T4",
      "include_colab_link": true
    },
    "gpuClass": "standard"
  },
  "nbformat": 4,
  "nbformat_minor": 5
}