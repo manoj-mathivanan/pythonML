{
  "nbformat": 4,
  "nbformat_minor": 0,
  "metadata": {
    "colab": {
      "provenance": [],
      "include_colab_link": true
    },
    "kernelspec": {
      "name": "python3",
      "display_name": "Python 3"
    },
    "language_info": {
      "name": "python"
    }
  },
  "cells": [
    {
      "cell_type": "markdown",
      "metadata": {
        "id": "view-in-github",
        "colab_type": "text"
      },
      "source": [
        "<a href=\"https://colab.research.google.com/github/manoj-mathivanan/pythonML/blob/main/Jaro009_Exercise_20240804.ipynb\" target=\"_parent\"><img src=\"https://colab.research.google.com/assets/colab-badge.svg\" alt=\"Open In Colab\"/></a>"
      ]
    },
    {
      "cell_type": "markdown",
      "source": [
        "Please upload the completed assignment here:\n",
        "\n",
        "URL =  https://forms.gle/TKDexYXYvRuK1scS8\n",
        "\n",
        "Please note that all submissions will receive a confirmation email.\n",
        "\n"
      ],
      "metadata": {
        "id": "XN6DTyuNKT9W"
      }
    },
    {
      "cell_type": "markdown",
      "source": [
        "\n",
        "\n",
        "---\n",
        "\n",
        "\n",
        "\n",
        "---\n",
        "\n"
      ],
      "metadata": {
        "id": "7Ap2bTVfKfqe"
      }
    },
    {
      "cell_type": "markdown",
      "source": [
        "# Based on Numpy basics\n",
        "\n"
      ],
      "metadata": {
        "id": "Nb1mU5gk3PwB"
      }
    },
    {
      "cell_type": "markdown",
      "source": [
        "**Q1:** Perform the following tasks:\n"
      ],
      "metadata": {
        "id": "6_KS58nE209K"
      }
    },
    {
      "cell_type": "markdown",
      "source": [
        "(a) Create a NumPy array with the following values: [1, 2, 3, 4, 5]"
      ],
      "metadata": {
        "id": "Au7VymLwAB3h"
      }
    },
    {
      "cell_type": "code",
      "source": [],
      "metadata": {
        "id": "68np3PVZXVY_"
      },
      "execution_count": null,
      "outputs": []
    },
    {
      "cell_type": "markdown",
      "source": [
        "\n",
        "(b) Compute the square of each element in the array."
      ],
      "metadata": {
        "id": "LXUclpyALxY7"
      }
    },
    {
      "cell_type": "code",
      "source": [],
      "metadata": {
        "id": "jEy7PSWmBAah"
      },
      "execution_count": null,
      "outputs": []
    },
    {
      "cell_type": "markdown",
      "source": [
        "\n",
        "(c) Compute the mean of the array.\n",
        "\n",
        "\n"
      ],
      "metadata": {
        "id": "iKpcVAtdPZzu"
      }
    },
    {
      "cell_type": "code",
      "source": [],
      "metadata": {
        "id": "-XbB9bWdBBIg"
      },
      "execution_count": null,
      "outputs": []
    },
    {
      "cell_type": "markdown",
      "source": [
        "(d) Create a second NumPy array with the values [6, 7, 8, 9, 10].\n",
        "\n"
      ],
      "metadata": {
        "id": "YnZSwR19AYsh"
      }
    },
    {
      "cell_type": "code",
      "source": [
        "\n"
      ],
      "metadata": {
        "id": "9hG-QUhCBCFJ"
      },
      "execution_count": null,
      "outputs": []
    },
    {
      "cell_type": "markdown",
      "source": [
        "(e) Concatenate the first and second arrays into a single array.\n"
      ],
      "metadata": {
        "id": "ZPpwkgURAgjB"
      }
    },
    {
      "cell_type": "code",
      "source": [],
      "metadata": {
        "id": "9VAz8gVABCq5"
      },
      "execution_count": null,
      "outputs": []
    },
    {
      "cell_type": "markdown",
      "source": [
        "(f) Reshape the concatenated array into a 2x5 matrix.\n"
      ],
      "metadata": {
        "id": "qm231-wnAoMh"
      }
    },
    {
      "cell_type": "code",
      "source": [],
      "metadata": {
        "id": "yRtatsCUBDYI"
      },
      "execution_count": null,
      "outputs": []
    },
    {
      "cell_type": "markdown",
      "source": [
        "(g) Compute the sum of each column in the 2x5 matrix."
      ],
      "metadata": {
        "id": "b-YOzbuHA38p"
      }
    },
    {
      "cell_type": "code",
      "source": [],
      "metadata": {
        "id": "TtuG2iF-BEMp"
      },
      "execution_count": null,
      "outputs": []
    },
    {
      "cell_type": "markdown",
      "source": [
        "(h) Find the index of the maximum value in the reshaped matrix."
      ],
      "metadata": {
        "id": "RArY9tNlA8JZ"
      }
    },
    {
      "cell_type": "code",
      "source": [],
      "metadata": {
        "id": "08XLw2NsBE3B"
      },
      "execution_count": null,
      "outputs": []
    },
    {
      "cell_type": "markdown",
      "source": [
        "\n",
        "\n",
        "---\n",
        "\n"
      ],
      "metadata": {
        "id": "sykouFJLBHTB"
      }
    },
    {
      "cell_type": "markdown",
      "source": [
        "**Q2:** Perform the following tasks:\n",
        "\n",
        "\n"
      ],
      "metadata": {
        "id": "2RDiShcv1-sq"
      }
    },
    {
      "cell_type": "markdown",
      "source": [
        "(a) Create a NumPy array named \"data\" with 20 elements randomly generated between 0 and 100 (inclusive). Ensure that the array has a data type of \"int\"."
      ],
      "metadata": {
        "id": "x41DOvDUDZyv"
      }
    },
    {
      "cell_type": "code",
      "source": [],
      "metadata": {
        "id": "5u6h4xD_KyEU"
      },
      "execution_count": null,
      "outputs": []
    },
    {
      "cell_type": "markdown",
      "source": [
        "(b) Reshape this array into a 4x5 matrix."
      ],
      "metadata": {
        "id": "fLujC0j-DZon"
      }
    },
    {
      "cell_type": "code",
      "source": [],
      "metadata": {
        "id": "0EDXTpYuKyed"
      },
      "execution_count": null,
      "outputs": []
    },
    {
      "cell_type": "markdown",
      "source": [
        "(c) Create a second matrix \"mask\" of the same shape (4x5) where each element is \"True\" if the corresponding element in the \"data\" matrix is greater than 50, and \"False\" otherwise."
      ],
      "metadata": {
        "id": "_697GAbjDZgP"
      }
    },
    {
      "cell_type": "code",
      "source": [],
      "metadata": {
        "id": "t723qozpKzTt"
      },
      "execution_count": null,
      "outputs": []
    },
    {
      "cell_type": "markdown",
      "source": [
        "(d) Use the \"mask\" matrix to extract all values from the \"data\" matrix that are greater than 50."
      ],
      "metadata": {
        "id": "pEQoDKZQDZX_"
      }
    },
    {
      "cell_type": "code",
      "source": [],
      "metadata": {
        "id": "w1hRMSjOKz7V"
      },
      "execution_count": null,
      "outputs": []
    },
    {
      "cell_type": "markdown",
      "source": [
        "(e) Compute the sum of all values in the \"data\" matrix that are greater than 50."
      ],
      "metadata": {
        "id": "ZVSAxWU1DZPg"
      }
    },
    {
      "cell_type": "code",
      "source": [],
      "metadata": {
        "id": "PWeiAmZ5K0pF"
      },
      "execution_count": null,
      "outputs": []
    },
    {
      "cell_type": "markdown",
      "source": [
        "(f) Compute the standard deviation of the entire \"data\" matrix."
      ],
      "metadata": {
        "id": "BCXR5NO7DZG_"
      }
    },
    {
      "cell_type": "code",
      "source": [],
      "metadata": {
        "id": "eVc1hOB_K1QN"
      },
      "execution_count": null,
      "outputs": []
    },
    {
      "cell_type": "markdown",
      "source": [
        "(g) Create a 1D array indices containing the row indices of the maximum value in each column of the data matrix."
      ],
      "metadata": {
        "id": "C9C489gdDY-n"
      }
    },
    {
      "cell_type": "code",
      "source": [],
      "metadata": {
        "id": "cGeyzMCgK2Ot"
      },
      "execution_count": null,
      "outputs": []
    },
    {
      "cell_type": "markdown",
      "source": [
        "(h) Compute the mean of the values in each row of the \"data\" matrix."
      ],
      "metadata": {
        "id": "b-z7DLb4DY2f"
      }
    },
    {
      "cell_type": "code",
      "source": [],
      "metadata": {
        "id": "udrZefloK2-0"
      },
      "execution_count": null,
      "outputs": []
    },
    {
      "cell_type": "markdown",
      "source": [
        "(i) Perform matrix multiplication between the \"data\" matrix and its transpose. Ensure that the result is stored in a variable named \"result\".\n"
      ],
      "metadata": {
        "id": "DFnSPJCJDYuH"
      }
    },
    {
      "cell_type": "code",
      "source": [],
      "metadata": {
        "id": "yCUt0rTsK3iU"
      },
      "execution_count": null,
      "outputs": []
    },
    {
      "cell_type": "markdown",
      "source": [
        "(j) Normalize each column of the \"data\" matrix by subtracting the mean of that column and then dividing by the standard deviation of that column. Store the normalized matrix in a variable named \"normalized_data\"."
      ],
      "metadata": {
        "id": "3_wZOZEKDYkX"
      }
    },
    {
      "cell_type": "code",
      "source": [],
      "metadata": {
        "id": "cDTWQl8VK4FN"
      },
      "execution_count": null,
      "outputs": []
    },
    {
      "cell_type": "markdown",
      "source": [
        "\n",
        "\n",
        "---\n",
        "\n",
        "\n",
        "\n",
        "---\n",
        "\n"
      ],
      "metadata": {
        "id": "mUlZil9XGmwY"
      }
    }
  ]
}