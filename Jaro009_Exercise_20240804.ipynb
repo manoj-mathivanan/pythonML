{
  "nbformat": 4,
  "nbformat_minor": 0,
  "metadata": {
    "colab": {
      "provenance": [],
      "include_colab_link": true
    },
    "kernelspec": {
      "name": "python3",
      "display_name": "Python 3"
    },
    "language_info": {
      "name": "python"
    }
  },
  "cells": [
    {
      "cell_type": "markdown",
      "metadata": {
        "id": "view-in-github",
        "colab_type": "text"
      },
      "source": [
        "<a href=\"https://colab.research.google.com/github/manoj-mathivanan/pythonML/blob/main/Jaro009_Exercise_20240804.ipynb\" target=\"_parent\"><img src=\"https://colab.research.google.com/assets/colab-badge.svg\" alt=\"Open In Colab\"/></a>"
      ]
    },
    {
      "cell_type": "markdown",
      "source": [
        "Please upload the completed assignment here:\n",
        "\n",
        "URL =  https://forms.gle/TKDexYXYvRuK1scS8\n",
        "\n",
        "Please note that all submissions will receive a confirmation email.\n",
        "\n"
      ],
      "metadata": {
        "id": "XN6DTyuNKT9W"
      }
    },
    {
      "cell_type": "markdown",
      "source": [
        "\n",
        "\n",
        "---\n",
        "\n",
        "\n",
        "\n",
        "---\n",
        "\n"
      ],
      "metadata": {
        "id": "7Ap2bTVfKfqe"
      }
    },
    {
      "cell_type": "markdown",
      "source": [
        "# Based on Numpy basics\n",
        "\n"
      ],
      "metadata": {
        "id": "Nb1mU5gk3PwB"
      }
    },
    {
      "cell_type": "markdown",
      "source": [
        "**Q1:** Perform the following tasks:\n"
      ],
      "metadata": {
        "id": "6_KS58nE209K"
      }
    },
    {
      "cell_type": "markdown",
      "source": [
        "(a) Create a NumPy array with the following values: [1, 2, 3, 4, 5]"
      ],
      "metadata": {
        "id": "Au7VymLwAB3h"
      }
    },
    {
      "cell_type": "code",
      "source": [
        "import numpy as np\n",
        "\n",
        "arr = np.array([1, 2, 3, 4, 5])\n",
        "print(arr)"
      ],
      "metadata": {
        "colab": {
          "base_uri": "https://localhost:8080/"
        },
        "id": "68np3PVZXVY_",
        "outputId": "abb46bbd-cc35-494b-d98d-355ac1fc7bbf"
      },
      "execution_count": 1,
      "outputs": [
        {
          "output_type": "stream",
          "name": "stdout",
          "text": [
            "[1 2 3 4 5]\n"
          ]
        }
      ]
    },
    {
      "cell_type": "markdown",
      "source": [
        "\n",
        "(b) Compute the square of each element in the array."
      ],
      "metadata": {
        "id": "LXUclpyALxY7"
      }
    },
    {
      "cell_type": "code",
      "source": [
        "squared_arr = arr ** 2\n",
        "print(squared_arr)"
      ],
      "metadata": {
        "id": "jEy7PSWmBAah",
        "colab": {
          "base_uri": "https://localhost:8080/"
        },
        "outputId": "07be59f2-43c0-4c68-d393-e10f275bfa0c"
      },
      "execution_count": 2,
      "outputs": [
        {
          "output_type": "stream",
          "name": "stdout",
          "text": [
            "[ 1  4  9 16 25]\n"
          ]
        }
      ]
    },
    {
      "cell_type": "markdown",
      "source": [
        "\n",
        "(c) Compute the mean of the array.\n",
        "\n",
        "\n"
      ],
      "metadata": {
        "id": "iKpcVAtdPZzu"
      }
    },
    {
      "cell_type": "code",
      "source": [
        "mean_value = np.mean(arr)\n",
        "print(mean_value)"
      ],
      "metadata": {
        "id": "-XbB9bWdBBIg",
        "colab": {
          "base_uri": "https://localhost:8080/"
        },
        "outputId": "18b2b95d-b12a-4e7a-cb87-48680e128bdc"
      },
      "execution_count": 3,
      "outputs": [
        {
          "output_type": "stream",
          "name": "stdout",
          "text": [
            "3.0\n"
          ]
        }
      ]
    },
    {
      "cell_type": "markdown",
      "source": [
        "(d) Create a second NumPy array with the values [6, 7, 8, 9, 10].\n",
        "\n"
      ],
      "metadata": {
        "id": "YnZSwR19AYsh"
      }
    },
    {
      "cell_type": "code",
      "source": [
        "arr2 = np.array([6, 7, 8, 9, 10])\n",
        "print(arr2)\n"
      ],
      "metadata": {
        "id": "9hG-QUhCBCFJ",
        "colab": {
          "base_uri": "https://localhost:8080/"
        },
        "outputId": "5122b457-d407-46f3-e93b-a93694d58fc4"
      },
      "execution_count": 4,
      "outputs": [
        {
          "output_type": "stream",
          "name": "stdout",
          "text": [
            "[ 6  7  8  9 10]\n"
          ]
        }
      ]
    },
    {
      "cell_type": "markdown",
      "source": [
        "(e) Concatenate the first and second arrays into a single array.\n"
      ],
      "metadata": {
        "id": "ZPpwkgURAgjB"
      }
    },
    {
      "cell_type": "code",
      "source": [
        "concatenated_arr = np.concatenate((arr, arr2))\n",
        "print(concatenated_arr)"
      ],
      "metadata": {
        "id": "9VAz8gVABCq5",
        "colab": {
          "base_uri": "https://localhost:8080/"
        },
        "outputId": "742c1ba9-2f6e-4576-bb89-b05f29a9b25b"
      },
      "execution_count": 8,
      "outputs": [
        {
          "output_type": "stream",
          "name": "stdout",
          "text": [
            "[ 1  2  3  4  5  6  7  8  9 10]\n"
          ]
        }
      ]
    },
    {
      "cell_type": "markdown",
      "source": [
        "(f) Reshape the concatenated array into a 2x5 matrix.\n"
      ],
      "metadata": {
        "id": "qm231-wnAoMh"
      }
    },
    {
      "cell_type": "code",
      "source": [
        "reshaped_matrix = concatenated_arr.reshape(2, 5)\n",
        "print(reshaped_matrix)"
      ],
      "metadata": {
        "id": "yRtatsCUBDYI",
        "colab": {
          "base_uri": "https://localhost:8080/"
        },
        "outputId": "2fb73404-fa30-4016-e59e-6f077bc46cbe"
      },
      "execution_count": 14,
      "outputs": [
        {
          "output_type": "stream",
          "name": "stdout",
          "text": [
            "[[ 1  2  3  4  5]\n",
            " [ 6  7  8  9 10]]\n"
          ]
        }
      ]
    },
    {
      "cell_type": "markdown",
      "source": [
        "(g) Compute the sum of each column in the 2x5 matrix."
      ],
      "metadata": {
        "id": "b-YOzbuHA38p"
      }
    },
    {
      "cell_type": "code",
      "source": [
        "column_sums = reshaped_matrix.sum(axis=0)\n",
        "print(column_sums)"
      ],
      "metadata": {
        "id": "TtuG2iF-BEMp",
        "colab": {
          "base_uri": "https://localhost:8080/"
        },
        "outputId": "4883b1b2-8c95-4c85-89dc-c3b71f7e358b"
      },
      "execution_count": 17,
      "outputs": [
        {
          "output_type": "stream",
          "name": "stdout",
          "text": [
            "[ 7  9 11 13 15]\n"
          ]
        }
      ]
    },
    {
      "cell_type": "markdown",
      "source": [
        "(h) Find the index of the maximum value in the reshaped matrix."
      ],
      "metadata": {
        "id": "RArY9tNlA8JZ"
      }
    },
    {
      "cell_type": "code",
      "source": [
        "max_index = np.argmax(reshaped_matrix)\n",
        "print(max_index)"
      ],
      "metadata": {
        "id": "08XLw2NsBE3B",
        "colab": {
          "base_uri": "https://localhost:8080/"
        },
        "outputId": "9c0a983b-5b3b-460d-a7c0-a4dc43e158c9"
      },
      "execution_count": 18,
      "outputs": [
        {
          "output_type": "stream",
          "name": "stdout",
          "text": [
            "9\n"
          ]
        }
      ]
    },
    {
      "cell_type": "markdown",
      "source": [
        "\n",
        "\n",
        "---\n",
        "\n"
      ],
      "metadata": {
        "id": "sykouFJLBHTB"
      }
    },
    {
      "cell_type": "markdown",
      "source": [
        "**Q2:** Perform the following tasks:\n",
        "\n",
        "\n"
      ],
      "metadata": {
        "id": "2RDiShcv1-sq"
      }
    },
    {
      "cell_type": "markdown",
      "source": [
        "(a) Create a NumPy array named \"data\" with 20 elements randomly generated between 0 and 100 (inclusive). Ensure that the array has a data type of \"int\"."
      ],
      "metadata": {
        "id": "x41DOvDUDZyv"
      }
    },
    {
      "cell_type": "code",
      "source": [
        "data = np.random.randint(0, 101, size=20, dtype=int)\n",
        "print(data)"
      ],
      "metadata": {
        "id": "5u6h4xD_KyEU",
        "colab": {
          "base_uri": "https://localhost:8080/"
        },
        "outputId": "92a8b429-6642-4aa1-b49a-3616aa0ab801"
      },
      "execution_count": 20,
      "outputs": [
        {
          "output_type": "stream",
          "name": "stdout",
          "text": [
            "[ 67  78  81  72  28   7  11  35  96  37  87  51  56  63  54  98  51  76\n",
            " 100  17]\n"
          ]
        }
      ]
    },
    {
      "cell_type": "markdown",
      "source": [
        "(b) Reshape this array into a 4x5 matrix."
      ],
      "metadata": {
        "id": "fLujC0j-DZon"
      }
    },
    {
      "cell_type": "code",
      "source": [
        "reshaped_data = data.reshape(4, 5)\n",
        "print(reshaped_data)"
      ],
      "metadata": {
        "id": "0EDXTpYuKyed",
        "colab": {
          "base_uri": "https://localhost:8080/"
        },
        "outputId": "0da2b457-62b7-431f-81e6-d347863b25c4"
      },
      "execution_count": 22,
      "outputs": [
        {
          "output_type": "stream",
          "name": "stdout",
          "text": [
            "[[ 67  78  81  72  28]\n",
            " [  7  11  35  96  37]\n",
            " [ 87  51  56  63  54]\n",
            " [ 98  51  76 100  17]]\n"
          ]
        }
      ]
    },
    {
      "cell_type": "markdown",
      "source": [
        "(c) Create a second matrix \"mask\" of the same shape (4x5) where each element is \"True\" if the corresponding element in the \"data\" matrix is greater than 50, and \"False\" otherwise."
      ],
      "metadata": {
        "id": "_697GAbjDZgP"
      }
    },
    {
      "cell_type": "code",
      "source": [
        "mask = reshaped_data > 50\n",
        "print(mask)"
      ],
      "metadata": {
        "id": "t723qozpKzTt",
        "colab": {
          "base_uri": "https://localhost:8080/"
        },
        "outputId": "3f601fcd-82e0-41e0-c4a1-ad6d21ee8512"
      },
      "execution_count": 24,
      "outputs": [
        {
          "output_type": "stream",
          "name": "stdout",
          "text": [
            "[[ True  True  True  True False]\n",
            " [False False False  True False]\n",
            " [ True  True  True  True  True]\n",
            " [ True  True  True  True False]]\n"
          ]
        }
      ]
    },
    {
      "cell_type": "markdown",
      "source": [
        "(d) Use the \"mask\" matrix to extract all values from the \"data\" matrix that are greater than 50."
      ],
      "metadata": {
        "id": "pEQoDKZQDZX_"
      }
    },
    {
      "cell_type": "code",
      "source": [
        "values_above_50 = reshaped_data[mask]\n",
        "print(values_above_50)"
      ],
      "metadata": {
        "id": "w1hRMSjOKz7V",
        "colab": {
          "base_uri": "https://localhost:8080/"
        },
        "outputId": "fb03ce98-e477-4ead-b50d-266fbe355eae"
      },
      "execution_count": 26,
      "outputs": [
        {
          "output_type": "stream",
          "name": "stdout",
          "text": [
            "[ 67  78  81  72  96  87  51  56  63  54  98  51  76 100]\n"
          ]
        }
      ]
    },
    {
      "cell_type": "markdown",
      "source": [
        "(e) Compute the sum of all values in the \"data\" matrix that are greater than 50."
      ],
      "metadata": {
        "id": "ZVSAxWU1DZPg"
      }
    },
    {
      "cell_type": "code",
      "source": [
        "sum_above_50 = np.sum(values_above_50)\n",
        "print(sum_above_50)"
      ],
      "metadata": {
        "id": "PWeiAmZ5K0pF",
        "colab": {
          "base_uri": "https://localhost:8080/"
        },
        "outputId": "80cfd792-4375-4ef5-e5e7-7f191e44f474"
      },
      "execution_count": 27,
      "outputs": [
        {
          "output_type": "stream",
          "name": "stdout",
          "text": [
            "1030\n"
          ]
        }
      ]
    },
    {
      "cell_type": "markdown",
      "source": [
        "(f) Compute the standard deviation of the entire \"data\" matrix."
      ],
      "metadata": {
        "id": "BCXR5NO7DZG_"
      }
    },
    {
      "cell_type": "code",
      "source": [
        "deviation = np.std(data)\n",
        "print(deviation)"
      ],
      "metadata": {
        "id": "eVc1hOB_K1QN",
        "colab": {
          "base_uri": "https://localhost:8080/"
        },
        "outputId": "5c882a11-0c91-4ea3-9607-db83f5633262"
      },
      "execution_count": 28,
      "outputs": [
        {
          "output_type": "stream",
          "name": "stdout",
          "text": [
            "28.001562456405892\n"
          ]
        }
      ]
    },
    {
      "cell_type": "markdown",
      "source": [
        "(g) Create a 1D array indices containing the row indices of the maximum value in each column of the data matrix."
      ],
      "metadata": {
        "id": "C9C489gdDY-n"
      }
    },
    {
      "cell_type": "code",
      "source": [
        "indices = np.argmax(reshaped_data, axis=0)\n",
        "print(indices)"
      ],
      "metadata": {
        "id": "cGeyzMCgK2Ot",
        "colab": {
          "base_uri": "https://localhost:8080/"
        },
        "outputId": "aab69b93-4219-4f01-b33f-fe306af2591b"
      },
      "execution_count": 29,
      "outputs": [
        {
          "output_type": "stream",
          "name": "stdout",
          "text": [
            "[3 0 0 3 2]\n"
          ]
        }
      ]
    },
    {
      "cell_type": "markdown",
      "source": [
        "(h) Compute the mean of the values in each row of the \"data\" matrix."
      ],
      "metadata": {
        "id": "b-z7DLb4DY2f"
      }
    },
    {
      "cell_type": "code",
      "source": [
        "mean_values = np.mean(reshaped_data, axis=0)\n",
        "print(mean_values)"
      ],
      "metadata": {
        "id": "udrZefloK2-0",
        "colab": {
          "base_uri": "https://localhost:8080/"
        },
        "outputId": "4ab3d353-bc9c-4264-9ba9-fa107a2a8af8"
      },
      "execution_count": 32,
      "outputs": [
        {
          "output_type": "stream",
          "name": "stdout",
          "text": [
            "[64.75 47.75 62.   82.75 34.  ]\n"
          ]
        }
      ]
    },
    {
      "cell_type": "markdown",
      "source": [
        "(i) Perform matrix multiplication between the \"data\" matrix and its transpose. Ensure that the result is stored in a variable named \"result\".\n"
      ],
      "metadata": {
        "id": "DFnSPJCJDYuH"
      }
    },
    {
      "cell_type": "code",
      "source": [
        "reshaped_data_T = reshaped_data.T\n",
        "result = np.dot(reshaped_data, reshaped_data_T)\n",
        "print(result)"
      ],
      "metadata": {
        "id": "yCUt0rTsK3iU",
        "colab": {
          "base_uri": "https://localhost:8080/"
        },
        "outputId": "ffddba1d-ff75-44bf-a5e1-6cfb48ce3664"
      },
      "execution_count": 33,
      "outputs": [
        {
          "output_type": "stream",
          "name": "stdout",
          "text": [
            "[[23102 12110 20391 24376]\n",
            " [12110 11980 11176 14136]\n",
            " [20391 11176 20191 22601]\n",
            " [24376 14136 22601 28270]]\n"
          ]
        }
      ]
    },
    {
      "cell_type": "markdown",
      "source": [
        "(j) Normalize each column of the \"data\" matrix by subtracting the mean of that column and then dividing by the standard deviation of that column. Store the normalized matrix in a variable named \"normalized_data\"."
      ],
      "metadata": {
        "id": "3_wZOZEKDYkX"
      }
    },
    {
      "cell_type": "code",
      "source": [
        "normalized_data = (reshaped_data - np.mean(reshaped_data, axis=0)) / np.std(reshaped_data, axis=0)\n",
        "print(normalized_data)"
      ],
      "metadata": {
        "id": "cDTWQl8VK4FN",
        "colab": {
          "base_uri": "https://localhost:8080/"
        },
        "outputId": "3e4056ea-4697-41d4-dc9b-dca5e4a3ead3"
      },
      "execution_count": 34,
      "outputs": [
        {
          "output_type": "stream",
          "name": "stdout",
          "text": [
            "[[ 0.06402006  1.26516168  1.04512412 -0.68723073 -0.44292808]\n",
            " [-1.64318153 -1.53701461 -1.48517638  0.84705183  0.22146404]\n",
            " [ 0.63308726  0.13592646 -0.33003919 -1.26258669  1.47642694]\n",
            " [ 0.94607421  0.13592646  0.77009145  1.10276559 -1.2549629 ]]\n"
          ]
        }
      ]
    },
    {
      "cell_type": "markdown",
      "source": [
        "\n",
        "\n",
        "---\n",
        "\n",
        "\n",
        "\n",
        "---\n",
        "\n"
      ],
      "metadata": {
        "id": "mUlZil9XGmwY"
      }
    }
  ]
}