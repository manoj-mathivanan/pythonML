{
  "nbformat": 4,
  "nbformat_minor": 0,
  "metadata": {
    "colab": {
      "provenance": [],
      "toc_visible": true,
      "include_colab_link": true
    },
    "kernelspec": {
      "name": "python3",
      "display_name": "Python 3"
    },
    "language_info": {
      "name": "python"
    }
  },
  "cells": [
    {
      "cell_type": "markdown",
      "metadata": {
        "id": "view-in-github",
        "colab_type": "text"
      },
      "source": [
        "<a href=\"https://colab.research.google.com/github/manoj-mathivanan/pythonML/blob/main/Jaro007_Exercise_20240721.ipynb\" target=\"_parent\"><img src=\"https://colab.research.google.com/assets/colab-badge.svg\" alt=\"Open In Colab\"/></a>"
      ]
    },
    {
      "cell_type": "markdown",
      "source": [
        "Please upload the completed assignment here:\n",
        "\n",
        "https://forms.gle/YtAz2yWmZKS26oHXA\n",
        "\n",
        "\n",
        "Please note that all submissions will receive a confirmation email.\n",
        "\n"
      ],
      "metadata": {
        "id": "XN6DTyuNKT9W"
      }
    },
    {
      "cell_type": "markdown",
      "source": [
        "\n",
        "\n",
        "---\n",
        "\n",
        "\n",
        "\n",
        "---\n",
        "\n"
      ],
      "metadata": {
        "id": "7Ap2bTVfKfqe"
      }
    },
    {
      "cell_type": "markdown",
      "source": [
        "# Based on Python keywords"
      ],
      "metadata": {
        "id": "Nb1mU5gk3PwB"
      }
    },
    {
      "cell_type": "markdown",
      "source": [
        "**Q1:** Comment the line which will throw an error\n"
      ],
      "metadata": {
        "id": "2RDiShcv1-sq"
      }
    },
    {
      "cell_type": "code",
      "source": [
        "variable = 1\n",
        "function = 2\n",
        "#for = 3\n",
        "constant = 4"
      ],
      "metadata": {
        "id": "IdocgS8F19s8"
      },
      "execution_count": 3,
      "outputs": []
    },
    {
      "cell_type": "markdown",
      "source": [
        "**Q2:** Uncomment the line which will not throw an error\n"
      ],
      "metadata": {
        "id": "6_KS58nE209K"
      }
    },
    {
      "cell_type": "code",
      "source": [
        "#break = 5\n",
        "#except = 6\n",
        "include = 7\n",
        "#global = 8"
      ],
      "metadata": {
        "id": "cQnf0ZRB24x5"
      },
      "execution_count": 7,
      "outputs": []
    },
    {
      "cell_type": "markdown",
      "source": [
        "**Q3:** Uncomment the keyword, which is used to import a module in Python?\n"
      ],
      "metadata": {
        "id": "Z2l1n1zy34ed"
      }
    },
    {
      "cell_type": "code",
      "source": [
        "#include\n",
        "import\n",
        "#load\n",
        "#use"
      ],
      "metadata": {
        "id": "a1dKElSp4A80",
        "colab": {
          "base_uri": "https://localhost:8080/",
          "height": 106
        },
        "outputId": "607da8c3-c252-4bdd-b811-743b90c75d18"
      },
      "execution_count": 9,
      "outputs": [
        {
          "output_type": "error",
          "ename": "SyntaxError",
          "evalue": "invalid syntax (<ipython-input-9-4a35b7b54546>, line 2)",
          "traceback": [
            "\u001b[0;36m  File \u001b[0;32m\"<ipython-input-9-4a35b7b54546>\"\u001b[0;36m, line \u001b[0;32m2\u001b[0m\n\u001b[0;31m    import\u001b[0m\n\u001b[0m          ^\u001b[0m\n\u001b[0;31mSyntaxError\u001b[0m\u001b[0;31m:\u001b[0m invalid syntax\n"
          ]
        }
      ]
    },
    {
      "cell_type": "markdown",
      "source": [
        "**Q4:** Uncomment the line which contains a keyword with boolean datatype"
      ],
      "metadata": {
        "id": "JppQxee-4Bbk"
      }
    },
    {
      "cell_type": "code",
      "source": [
        "#type(Right)\n",
        "#type(Correct)\n",
        "#type(Accurate)\n",
        "type(True)"
      ],
      "metadata": {
        "id": "n6tv8Pcj4kbT",
        "colab": {
          "base_uri": "https://localhost:8080/"
        },
        "outputId": "09aee4a6-ef23-4492-bea3-5010273faab0"
      },
      "execution_count": 12,
      "outputs": [
        {
          "output_type": "execute_result",
          "data": {
            "text/plain": [
              "bool"
            ]
          },
          "metadata": {},
          "execution_count": 12
        }
      ]
    },
    {
      "cell_type": "markdown",
      "source": [
        "\n",
        "\n",
        "---\n",
        "\n"
      ],
      "metadata": {
        "id": "TMlOR3P76v1F"
      }
    },
    {
      "cell_type": "markdown",
      "source": [
        "# Assignment Operator"
      ],
      "metadata": {
        "id": "SD_6ZnI66w3F"
      }
    },
    {
      "cell_type": "markdown",
      "source": [
        "**Q5:** Uncomment the line which will make output of the code cell as \"10\""
      ],
      "metadata": {
        "id": "Tbyl28Zd7aYc"
      }
    },
    {
      "cell_type": "code",
      "source": [
        "a = 10\n",
        "b = 20\n",
        "c = 30\n",
        "\n",
        "a = c\n",
        "b = a\n",
        "c = b\n",
        "\n",
        "# print(c) # option one\n",
        "# print(c/2) # option two\n",
        "print(c/3) # option three\n",
        "# print(c/4) # option four"
      ],
      "metadata": {
        "id": "KhSDBa9t4B7U",
        "colab": {
          "base_uri": "https://localhost:8080/"
        },
        "outputId": "f129953d-907d-4787-ed74-45a5a00d0947"
      },
      "execution_count": 13,
      "outputs": [
        {
          "output_type": "stream",
          "name": "stdout",
          "text": [
            "10.0\n"
          ]
        }
      ]
    },
    {
      "cell_type": "markdown",
      "source": [
        "\n",
        "\n",
        "---\n",
        "\n"
      ],
      "metadata": {
        "id": "XkYfZ4tZ9okw"
      }
    },
    {
      "cell_type": "markdown",
      "source": [
        "**Q6** Define 5 variables such that, each variable is a different datatype"
      ],
      "metadata": {
        "id": "a6enIXDZ9p0Y"
      }
    },
    {
      "cell_type": "code",
      "source": [
        "# fill in the values on the right hand side of equality sign\n",
        "variable_one = 5\n",
        "variable_two = 5.0\n",
        "variable_three = '5'\n",
        "variable_four = True\n",
        "variable_five = [\"1\",\"2\",\"3\"]\n",
        "\n",
        "# use the following to check the definition of the variable\n",
        "print(type(variable_one))\n",
        "print(type(variable_two))\n",
        "print(type(variable_three))\n",
        "print(type(variable_four))\n",
        "print(type(variable_five))"
      ],
      "metadata": {
        "id": "Q_k9RWUp4DMM",
        "colab": {
          "base_uri": "https://localhost:8080/"
        },
        "outputId": "77d1ce75-79c5-42b0-faa4-d41388edd554"
      },
      "execution_count": 21,
      "outputs": [
        {
          "output_type": "stream",
          "name": "stdout",
          "text": [
            "<class 'int'>\n",
            "<class 'float'>\n",
            "<class 'str'>\n",
            "<class 'bool'>\n",
            "<class 'list'>\n"
          ]
        }
      ]
    },
    {
      "cell_type": "markdown",
      "source": [
        "\n",
        "\n",
        "---\n",
        "\n"
      ],
      "metadata": {
        "id": "ooSGHJBW_wtf"
      }
    },
    {
      "cell_type": "markdown",
      "source": [
        "**Q7** Give 5 examples of invalid variable name (try to have as many different kinds)\n"
      ],
      "metadata": {
        "id": "CRhs1UrS_y-e"
      }
    },
    {
      "cell_type": "code",
      "source": [
        "1var = 5"
      ],
      "metadata": {
        "id": "sNlq4d43AVBf",
        "colab": {
          "base_uri": "https://localhost:8080/",
          "height": 106
        },
        "outputId": "d7d10c14-977c-4bd6-c6c0-9f6b00f2264d"
      },
      "execution_count": 16,
      "outputs": [
        {
          "output_type": "error",
          "ename": "SyntaxError",
          "evalue": "invalid decimal literal (<ipython-input-16-a840a0e2046b>, line 1)",
          "traceback": [
            "\u001b[0;36m  File \u001b[0;32m\"<ipython-input-16-a840a0e2046b>\"\u001b[0;36m, line \u001b[0;32m1\u001b[0m\n\u001b[0;31m    1var = 5\u001b[0m\n\u001b[0m    ^\u001b[0m\n\u001b[0;31mSyntaxError\u001b[0m\u001b[0;31m:\u001b[0m invalid decimal literal\n"
          ]
        }
      ]
    },
    {
      "cell_type": "code",
      "source": [
        "class = 5"
      ],
      "metadata": {
        "id": "_-EEXAYgAU8-",
        "colab": {
          "base_uri": "https://localhost:8080/",
          "height": 106
        },
        "outputId": "aca24d9e-5d72-457a-e7cc-0495a3b46932"
      },
      "execution_count": 17,
      "outputs": [
        {
          "output_type": "error",
          "ename": "SyntaxError",
          "evalue": "invalid syntax (<ipython-input-17-9ceff0c9d0fd>, line 1)",
          "traceback": [
            "\u001b[0;36m  File \u001b[0;32m\"<ipython-input-17-9ceff0c9d0fd>\"\u001b[0;36m, line \u001b[0;32m1\u001b[0m\n\u001b[0;31m    class = 11\u001b[0m\n\u001b[0m          ^\u001b[0m\n\u001b[0;31mSyntaxError\u001b[0m\u001b[0;31m:\u001b[0m invalid syntax\n"
          ]
        }
      ]
    },
    {
      "cell_type": "code",
      "source": [
        "test-var = 5"
      ],
      "metadata": {
        "id": "n8KZVeGXAU5O",
        "colab": {
          "base_uri": "https://localhost:8080/",
          "height": 106
        },
        "outputId": "725c32dc-aa6e-48a0-db33-bcf09f546547"
      },
      "execution_count": 18,
      "outputs": [
        {
          "output_type": "error",
          "ename": "SyntaxError",
          "evalue": "cannot assign to expression here. Maybe you meant '==' instead of '='? (<ipython-input-18-c57f9a6c5e87>, line 1)",
          "traceback": [
            "\u001b[0;36m  File \u001b[0;32m\"<ipython-input-18-c57f9a6c5e87>\"\u001b[0;36m, line \u001b[0;32m1\u001b[0m\n\u001b[0;31m    test-var = 5\u001b[0m\n\u001b[0m    ^\u001b[0m\n\u001b[0;31mSyntaxError\u001b[0m\u001b[0;31m:\u001b[0m cannot assign to expression here. Maybe you meant '==' instead of '='?\n"
          ]
        }
      ]
    },
    {
      "cell_type": "code",
      "source": [
        "space var = 5"
      ],
      "metadata": {
        "id": "ZxhcT_AlAUz2",
        "colab": {
          "base_uri": "https://localhost:8080/",
          "height": 106
        },
        "outputId": "7c8ae9d3-6786-440f-b17e-44bd01b48bc3"
      },
      "execution_count": 19,
      "outputs": [
        {
          "output_type": "error",
          "ename": "SyntaxError",
          "evalue": "invalid syntax (<ipython-input-19-e7cb4df32a08>, line 1)",
          "traceback": [
            "\u001b[0;36m  File \u001b[0;32m\"<ipython-input-19-e7cb4df32a08>\"\u001b[0;36m, line \u001b[0;32m1\u001b[0m\n\u001b[0;31m    space var = 5\u001b[0m\n\u001b[0m          ^\u001b[0m\n\u001b[0;31mSyntaxError\u001b[0m\u001b[0;31m:\u001b[0m invalid syntax\n"
          ]
        }
      ]
    },
    {
      "cell_type": "code",
      "source": [
        "import = 5"
      ],
      "metadata": {
        "id": "m0AGXAlfAUqX",
        "colab": {
          "base_uri": "https://localhost:8080/",
          "height": 106
        },
        "outputId": "e3de61c7-4951-4bdd-e8e4-a783499d9b6d"
      },
      "execution_count": 20,
      "outputs": [
        {
          "output_type": "error",
          "ename": "SyntaxError",
          "evalue": "invalid syntax (<ipython-input-20-3c1c1f1c3721>, line 1)",
          "traceback": [
            "\u001b[0;36m  File \u001b[0;32m\"<ipython-input-20-3c1c1f1c3721>\"\u001b[0;36m, line \u001b[0;32m1\u001b[0m\n\u001b[0;31m    import = 5\u001b[0m\n\u001b[0m           ^\u001b[0m\n\u001b[0;31mSyntaxError\u001b[0m\u001b[0;31m:\u001b[0m invalid syntax\n"
          ]
        }
      ]
    },
    {
      "cell_type": "markdown",
      "source": [
        "\n",
        "\n",
        "---\n",
        "\n"
      ],
      "metadata": {
        "id": "kFQCkxgGApG_"
      }
    },
    {
      "cell_type": "markdown",
      "source": [
        "# Basic operators in Python"
      ],
      "metadata": {
        "id": "Rscj8AEhA0Nu"
      }
    },
    {
      "cell_type": "markdown",
      "source": [
        "**Q8** Using modulus operator, find remainder in division of 298570 by 3753"
      ],
      "metadata": {
        "id": "WWKHenQW4CZk"
      }
    },
    {
      "cell_type": "code",
      "source": [
        "a = 298570%3753\n",
        "print(a)"
      ],
      "metadata": {
        "id": "2JtS1a3pBP2P",
        "colab": {
          "base_uri": "https://localhost:8080/"
        },
        "outputId": "d780052e-60b2-409f-cf2d-0ed782bab62e"
      },
      "execution_count": 22,
      "outputs": [
        {
          "output_type": "stream",
          "name": "stdout",
          "text": [
            "2083\n"
          ]
        }
      ]
    },
    {
      "cell_type": "markdown",
      "source": [
        "**Q9** Using floor division operator, find quotient in division of 7298752 by 6782\n"
      ],
      "metadata": {
        "id": "wbelN213Bt11"
      }
    },
    {
      "cell_type": "code",
      "source": [
        "quotient = 7298752 // 6782\n",
        "quotient"
      ],
      "metadata": {
        "id": "nMJVE7DGCCmV",
        "colab": {
          "base_uri": "https://localhost:8080/"
        },
        "outputId": "a10533c9-c031-4589-eef6-60f09617780f"
      },
      "execution_count": 24,
      "outputs": [
        {
          "output_type": "execute_result",
          "data": {
            "text/plain": [
              "1076"
            ]
          },
          "metadata": {},
          "execution_count": 24
        }
      ]
    },
    {
      "cell_type": "markdown",
      "source": [
        "\n",
        "\n",
        "---\n",
        "\n"
      ],
      "metadata": {
        "id": "C8cH_P87C8WU"
      }
    },
    {
      "cell_type": "markdown",
      "source": [
        "**Q10** Write commands to import the following libraries:\n",
        "\n",
        "\n",
        "1.   maths\n",
        "2.   pandas\n",
        "3.   numpy\n",
        "4.   matplotlib\n",
        "\n",
        "\n"
      ],
      "metadata": {
        "id": "97KSmofsCFTt"
      }
    },
    {
      "cell_type": "code",
      "source": [
        "import math"
      ],
      "metadata": {
        "id": "cHiHDsNgj0oI"
      },
      "execution_count": 25,
      "outputs": []
    },
    {
      "cell_type": "code",
      "source": [
        "import pandas as pd"
      ],
      "metadata": {
        "id": "nA_DdsgnFoeg"
      },
      "execution_count": 26,
      "outputs": []
    },
    {
      "cell_type": "code",
      "source": [
        "import numpy as np"
      ],
      "metadata": {
        "id": "fZY0vHLFFoQQ"
      },
      "execution_count": 27,
      "outputs": []
    },
    {
      "cell_type": "code",
      "source": [
        "import matplotlib.pyplot as plt"
      ],
      "metadata": {
        "id": "eaMSb1nNFoCR"
      },
      "execution_count": 28,
      "outputs": []
    }
  ]
}