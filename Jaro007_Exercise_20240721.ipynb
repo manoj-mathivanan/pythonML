{
  "nbformat": 4,
  "nbformat_minor": 0,
  "metadata": {
    "colab": {
      "provenance": []
    },
    "kernelspec": {
      "name": "python3",
      "display_name": "Python 3"
    },
    "language_info": {
      "name": "python"
    }
  },
  "cells": [
    {
      "cell_type": "markdown",
      "source": [
        "Please upload the completed assignment here:\n",
        "\n",
        "https://forms.gle/YtAz2yWmZKS26oHXA\n",
        "\n",
        "\n",
        "Please note that all submissions will receive a confirmation email.\n",
        "\n"
      ],
      "metadata": {
        "id": "XN6DTyuNKT9W"
      }
    },
    {
      "cell_type": "markdown",
      "source": [
        "\n",
        "\n",
        "---\n",
        "\n",
        "\n",
        "\n",
        "---\n",
        "\n"
      ],
      "metadata": {
        "id": "7Ap2bTVfKfqe"
      }
    },
    {
      "cell_type": "markdown",
      "source": [
        "# Based on Python keywords"
      ],
      "metadata": {
        "id": "Nb1mU5gk3PwB"
      }
    },
    {
      "cell_type": "markdown",
      "source": [
        "**Q1:** Comment the line which will throw an error\n"
      ],
      "metadata": {
        "id": "2RDiShcv1-sq"
      }
    },
    {
      "cell_type": "code",
      "source": [
        "variable = 1\n",
        "function = 2\n",
        "for = 3\n",
        "constant = 4"
      ],
      "metadata": {
        "id": "IdocgS8F19s8"
      },
      "execution_count": null,
      "outputs": []
    },
    {
      "cell_type": "markdown",
      "source": [
        "**Q2:** Uncomment the line which will not throw an error\n"
      ],
      "metadata": {
        "id": "6_KS58nE209K"
      }
    },
    {
      "cell_type": "code",
      "source": [
        "# break = 5\n",
        "# except = 6\n",
        "# include = 7\n",
        "# global = 8"
      ],
      "metadata": {
        "id": "cQnf0ZRB24x5"
      },
      "execution_count": null,
      "outputs": []
    },
    {
      "cell_type": "markdown",
      "source": [
        "**Q3:** Uncomment the keyword, which is used to import a module in Python?\n"
      ],
      "metadata": {
        "id": "Z2l1n1zy34ed"
      }
    },
    {
      "cell_type": "code",
      "source": [
        "# include\n",
        "# import\n",
        "# load\n",
        "# use"
      ],
      "metadata": {
        "id": "a1dKElSp4A80"
      },
      "execution_count": null,
      "outputs": []
    },
    {
      "cell_type": "markdown",
      "source": [
        "**Q4:** Uncomment the line which contains a keyword with boolean datatype"
      ],
      "metadata": {
        "id": "JppQxee-4Bbk"
      }
    },
    {
      "cell_type": "code",
      "source": [
        "# type(Right)\n",
        "# type(Correct)\n",
        "# type(Accurate)\n",
        "# type(True)"
      ],
      "metadata": {
        "id": "n6tv8Pcj4kbT"
      },
      "execution_count": null,
      "outputs": []
    },
    {
      "cell_type": "markdown",
      "source": [
        "\n",
        "\n",
        "---\n",
        "\n"
      ],
      "metadata": {
        "id": "TMlOR3P76v1F"
      }
    },
    {
      "cell_type": "markdown",
      "source": [
        "# Assignment Operator"
      ],
      "metadata": {
        "id": "SD_6ZnI66w3F"
      }
    },
    {
      "cell_type": "markdown",
      "source": [
        "**Q5:** Uncomment the line which will make output of the code cell as \"10\""
      ],
      "metadata": {
        "id": "Tbyl28Zd7aYc"
      }
    },
    {
      "cell_type": "code",
      "source": [
        "a = 10\n",
        "b = 20\n",
        "c = 30\n",
        "\n",
        "a = c\n",
        "b = a\n",
        "c = b\n",
        "\n",
        "# print(c) # option one\n",
        "# print(c/2) # option two\n",
        "# print(c/3) # option three\n",
        "# print(c/4) # option four"
      ],
      "metadata": {
        "id": "KhSDBa9t4B7U"
      },
      "execution_count": null,
      "outputs": []
    },
    {
      "cell_type": "markdown",
      "source": [
        "\n",
        "\n",
        "---\n",
        "\n"
      ],
      "metadata": {
        "id": "XkYfZ4tZ9okw"
      }
    },
    {
      "cell_type": "markdown",
      "source": [
        "**Q6** Define 5 variables such that, each variable is a different datatype"
      ],
      "metadata": {
        "id": "a6enIXDZ9p0Y"
      }
    },
    {
      "cell_type": "code",
      "source": [
        "# fill in the values on the right hand side of equality sign\n",
        "variable_one =\n",
        "variable_two =\n",
        "variable_three =\n",
        "variable_four =\n",
        "variable_five =\n",
        "\n",
        "# use the following to check the definition of the variable\n",
        "print(type(variable_one))\n",
        "print(type(variable_two))\n",
        "print(type(variable_three))\n",
        "print(type(variable_four))\n",
        "print(type(variable_five))"
      ],
      "metadata": {
        "id": "Q_k9RWUp4DMM"
      },
      "execution_count": null,
      "outputs": []
    },
    {
      "cell_type": "markdown",
      "source": [
        "\n",
        "\n",
        "---\n",
        "\n"
      ],
      "metadata": {
        "id": "ooSGHJBW_wtf"
      }
    },
    {
      "cell_type": "markdown",
      "source": [
        "**Q7** Give 5 examples of invalid variable name (try to have as many different kinds)\n"
      ],
      "metadata": {
        "id": "CRhs1UrS_y-e"
      }
    },
    {
      "cell_type": "code",
      "source": [],
      "metadata": {
        "id": "sNlq4d43AVBf"
      },
      "execution_count": null,
      "outputs": []
    },
    {
      "cell_type": "code",
      "source": [],
      "metadata": {
        "id": "_-EEXAYgAU8-"
      },
      "execution_count": null,
      "outputs": []
    },
    {
      "cell_type": "code",
      "source": [],
      "metadata": {
        "id": "n8KZVeGXAU5O"
      },
      "execution_count": null,
      "outputs": []
    },
    {
      "cell_type": "code",
      "source": [],
      "metadata": {
        "id": "ZxhcT_AlAUz2"
      },
      "execution_count": null,
      "outputs": []
    },
    {
      "cell_type": "code",
      "source": [],
      "metadata": {
        "id": "m0AGXAlfAUqX"
      },
      "execution_count": null,
      "outputs": []
    },
    {
      "cell_type": "markdown",
      "source": [
        "\n",
        "\n",
        "---\n",
        "\n"
      ],
      "metadata": {
        "id": "kFQCkxgGApG_"
      }
    },
    {
      "cell_type": "markdown",
      "source": [
        "# Basic operators in Python"
      ],
      "metadata": {
        "id": "Rscj8AEhA0Nu"
      }
    },
    {
      "cell_type": "markdown",
      "source": [
        "**Q8** Using modulus operator, find remainder in division of 298570 by 3753"
      ],
      "metadata": {
        "id": "WWKHenQW4CZk"
      }
    },
    {
      "cell_type": "code",
      "source": [],
      "metadata": {
        "id": "2JtS1a3pBP2P"
      },
      "execution_count": null,
      "outputs": []
    },
    {
      "cell_type": "markdown",
      "source": [
        "**Q9** Using floor division operator, find quotient in division of 7298752 by 6782\n"
      ],
      "metadata": {
        "id": "wbelN213Bt11"
      }
    },
    {
      "cell_type": "code",
      "source": [],
      "metadata": {
        "id": "nMJVE7DGCCmV"
      },
      "execution_count": null,
      "outputs": []
    },
    {
      "cell_type": "markdown",
      "source": [
        "\n",
        "\n",
        "---\n",
        "\n"
      ],
      "metadata": {
        "id": "C8cH_P87C8WU"
      }
    },
    {
      "cell_type": "markdown",
      "source": [
        "**Q10** Write commands to import the following libraries:\n",
        "\n",
        "\n",
        "1.   maths\n",
        "2.   pandas\n",
        "3.   numpy\n",
        "4.   matplotlib\n",
        "\n",
        "\n"
      ],
      "metadata": {
        "id": "97KSmofsCFTt"
      }
    },
    {
      "cell_type": "code",
      "source": [],
      "metadata": {
        "id": "cHiHDsNgj0oI"
      },
      "execution_count": null,
      "outputs": []
    },
    {
      "cell_type": "code",
      "source": [],
      "metadata": {
        "id": "nA_DdsgnFoeg"
      },
      "execution_count": null,
      "outputs": []
    },
    {
      "cell_type": "code",
      "source": [],
      "metadata": {
        "id": "fZY0vHLFFoQQ"
      },
      "execution_count": null,
      "outputs": []
    },
    {
      "cell_type": "code",
      "source": [],
      "metadata": {
        "id": "eaMSb1nNFoCR"
      },
      "execution_count": null,
      "outputs": []
    },
    {
      "cell_type": "markdown",
      "source": [
        "\n",
        "\n",
        "---\n",
        "\n",
        "\n",
        "\n",
        "---\n",
        "\n"
      ],
      "metadata": {
        "id": "mUlZil9XGmwY"
      }
    },
    {
      "cell_type": "code",
      "source": [],
      "metadata": {
        "id": "cZXx3NL_KYSy"
      },
      "execution_count": null,
      "outputs": []
    }
  ]
}
