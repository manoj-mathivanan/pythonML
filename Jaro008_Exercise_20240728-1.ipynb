{
  "nbformat": 4,
  "nbformat_minor": 0,
  "metadata": {
    "colab": {
      "provenance": []
    },
    "kernelspec": {
      "name": "python3",
      "display_name": "Python 3"
    },
    "language_info": {
      "name": "python"
    }
  },
  "cells": [
    {
      "cell_type": "markdown",
      "source": [
        "Please upload the completed assignment here:\n",
        "\n",
        "URL =  https://forms.gle/n6NDHJ7LCDLx7hHU7\n",
        "\n",
        "Please note that all submissions will receive a confirmation email.\n",
        "\n"
      ],
      "metadata": {
        "id": "XN6DTyuNKT9W"
      }
    },
    {
      "cell_type": "markdown",
      "source": [
        "\n",
        "\n",
        "---\n",
        "\n",
        "\n",
        "\n",
        "---\n",
        "\n"
      ],
      "metadata": {
        "id": "7Ap2bTVfKfqe"
      }
    },
    {
      "cell_type": "markdown",
      "source": [
        "# Based on Python's *rule of precedence*.\n",
        "\n"
      ],
      "metadata": {
        "id": "Nb1mU5gk3PwB"
      }
    },
    {
      "cell_type": "markdown",
      "source": [
        "**Q1:** Guess what should be outcome of the following expression. Then run the code and compare the two.\n"
      ],
      "metadata": {
        "id": "6_KS58nE209K"
      }
    },
    {
      "cell_type": "code",
      "source": [
        "(3 + 5) * 2 ** 2 / 4 - 1"
      ],
      "metadata": {
        "id": "DOrg2A-VH0XB"
      },
      "execution_count": null,
      "outputs": []
    },
    {
      "cell_type": "markdown",
      "source": [
        "**Brief answer:**\n"
      ],
      "metadata": {
        "id": "LXUclpyALxY7"
      }
    },
    {
      "cell_type": "markdown",
      "source": [
        "\n",
        "\n",
        "---\n",
        "\n"
      ],
      "metadata": {
        "id": "iKpcVAtdPZzu"
      }
    },
    {
      "cell_type": "markdown",
      "source": [
        "**Q2:** Write your understanding on following 2 cases:\n",
        "\n",
        "\n"
      ],
      "metadata": {
        "id": "2RDiShcv1-sq"
      }
    },
    {
      "cell_type": "code",
      "source": [
        "# case A\n",
        "1/10*10"
      ],
      "metadata": {
        "id": "IdocgS8F19s8"
      },
      "execution_count": null,
      "outputs": []
    },
    {
      "cell_type": "markdown",
      "source": [
        "**Brief answer 2(A):**\n"
      ],
      "metadata": {
        "id": "DRbCydGSLtiC"
      }
    },
    {
      "cell_type": "code",
      "source": [
        "# case B\n",
        "1*10/10"
      ],
      "metadata": {
        "id": "n6jmDsWtCtlJ"
      },
      "execution_count": null,
      "outputs": []
    },
    {
      "cell_type": "markdown",
      "source": [
        "**Brief answer 2(B):**\n"
      ],
      "metadata": {
        "id": "rDbgT0efL37C"
      }
    },
    {
      "cell_type": "markdown",
      "source": [
        "\n",
        "\n",
        "---\n",
        "\n"
      ],
      "metadata": {
        "id": "TMlOR3P76v1F"
      }
    },
    {
      "cell_type": "markdown",
      "source": [
        "**Q3:** Define a function that takes two arguments and returns their sum\n",
        "\n"
      ],
      "metadata": {
        "id": "Z2l1n1zy34ed"
      }
    },
    {
      "cell_type": "code",
      "source": [
        "def add_numbers(a, b):\n",
        "    # Fill in the blank to return the sum of a and b\n",
        "    return ____"
      ],
      "metadata": {
        "id": "RnIjFOoVNVvk"
      },
      "execution_count": null,
      "outputs": []
    },
    {
      "cell_type": "code",
      "source": [
        "# Test the function\n",
        "print(add_numbers(5, 3))  # Expected output: 8"
      ],
      "metadata": {
        "id": "ndx6jk93Ngqz"
      },
      "execution_count": null,
      "outputs": []
    },
    {
      "cell_type": "markdown",
      "source": [
        "\n",
        "\n",
        "---\n",
        "\n"
      ],
      "metadata": {
        "id": "6nGFnNcMPX4O"
      }
    },
    {
      "cell_type": "markdown",
      "source": [
        "**Q4:** Complete the code\n"
      ],
      "metadata": {
        "id": "JppQxee-4Bbk"
      }
    },
    {
      "cell_type": "code",
      "source": [
        "# Define a nexted function that calculates the difference of two numbers\n",
        "def outer_function(x):\n",
        "  def inner_function(y):\n",
        "    return x - y\n",
        "  return ___________ # Fill in the blank"
      ],
      "metadata": {
        "id": "hA3DZF20NVAd"
      },
      "execution_count": null,
      "outputs": []
    },
    {
      "cell_type": "code",
      "source": [
        "# Now test it\n",
        "outer_function(10)(5)  # Expected"
      ],
      "metadata": {
        "id": "9SPLa6loWbjq"
      },
      "execution_count": null,
      "outputs": []
    },
    {
      "cell_type": "markdown",
      "source": [
        "\n",
        "\n",
        "---\n",
        "\n"
      ],
      "metadata": {
        "id": "W7yYzobBW5t3"
      }
    },
    {
      "cell_type": "markdown",
      "source": [
        "**Q5:** Complete the code\n"
      ],
      "metadata": {
        "id": "Tbyl28Zd7aYc"
      }
    },
    {
      "cell_type": "code",
      "source": [
        "# Define a function that returns a list of squares of numbers up to n\n",
        "def squares_up_to(n):\n",
        "    result = []\n",
        "    for i in range(1, n + 1):\n",
        "        # Fill in the blank to append the square of i to result\n",
        "        result.append(_____)\n",
        "    return result"
      ],
      "metadata": {
        "id": "KhSDBa9t4B7U"
      },
      "execution_count": 21,
      "outputs": []
    },
    {
      "cell_type": "code",
      "source": [
        "# Test the function\n",
        "print(squares_up_to(4))  # Expected output: [1, 4, 9, 16]"
      ],
      "metadata": {
        "colab": {
          "base_uri": "https://localhost:8080/"
        },
        "id": "SficSIU5aos0",
        "outputId": "2e9f1b57-8bdd-40b8-9f49-cee58fe75fb3"
      },
      "execution_count": 24,
      "outputs": [
        {
          "output_type": "stream",
          "name": "stdout",
          "text": [
            "[1, 4, 9, 16]\n"
          ]
        }
      ]
    },
    {
      "cell_type": "markdown",
      "source": [
        "\n",
        "\n",
        "---\n",
        "\n"
      ],
      "metadata": {
        "id": "XkYfZ4tZ9okw"
      }
    },
    {
      "cell_type": "markdown",
      "source": [
        "**Q6:** Complete the code"
      ],
      "metadata": {
        "id": "a6enIXDZ9p0Y"
      }
    },
    {
      "cell_type": "code",
      "source": [
        "# Define a function that prints all even numbers up to n\n",
        "def print_evens(n):\n",
        "    for i in range(n):\n",
        "        if i % 2 == 0:\n",
        "            # Fill in the blank\n",
        "            print(____)\n"
      ],
      "metadata": {
        "id": "Q_k9RWUp4DMM"
      },
      "execution_count": null,
      "outputs": []
    },
    {
      "cell_type": "code",
      "source": [
        "# Test the function\n",
        "print_evens(10)  # Expected output: 0, 2, 4, 6, 8"
      ],
      "metadata": {
        "id": "9BBPnv0WfBsP"
      },
      "execution_count": null,
      "outputs": []
    },
    {
      "cell_type": "markdown",
      "source": [
        "\n",
        "\n",
        "---\n",
        "\n"
      ],
      "metadata": {
        "id": "ooSGHJBW_wtf"
      }
    },
    {
      "cell_type": "markdown",
      "source": [
        "**Q7:** Complete the code\n"
      ],
      "metadata": {
        "id": "CRhs1UrS_y-e"
      }
    },
    {
      "cell_type": "code",
      "source": [
        "# Define a function that checks if a number is positive or not\n",
        "def check_number(num):\n",
        "    if num > 0:\n",
        "        # Fill in the blank\n",
        "        return \"____\"\n",
        "    else:\n",
        "        # Fill in the blank\n",
        "        return \"____\"\n",
        ""
      ],
      "metadata": {
        "id": "sNlq4d43AVBf"
      },
      "execution_count": null,
      "outputs": []
    },
    {
      "cell_type": "code",
      "source": [
        "# Test the function\n",
        "print(check_number(-5))  # Expected output: \"Non-positive\"\n",
        "print(check_number(7))   # Expected output: \"Positive\""
      ],
      "metadata": {
        "id": "_-EEXAYgAU8-"
      },
      "execution_count": null,
      "outputs": []
    },
    {
      "cell_type": "markdown",
      "source": [
        "\n",
        "\n",
        "---\n",
        "\n"
      ],
      "metadata": {
        "id": "k188MUgsgEmd"
      }
    },
    {
      "cell_type": "markdown",
      "source": [
        "**Q8:** Complete the code\n"
      ],
      "metadata": {
        "id": "WWKHenQW4CZk"
      }
    },
    {
      "cell_type": "code",
      "source": [
        "# Define a function that categorizes a number\n",
        "def categorize_number(num):\n",
        "    if num > 0:\n",
        "        # Fill in the blank\n",
        "        return \"____\"\n",
        "    elif num < 0:\n",
        "        # Fill in the blank\n",
        "        return \"____\"\n",
        "    else:\n",
        "        # Fill in the blank\n",
        "        return \"____\"\n"
      ],
      "metadata": {
        "id": "2JtS1a3pBP2P"
      },
      "execution_count": null,
      "outputs": []
    },
    {
      "cell_type": "code",
      "source": [
        "# Test the function\n",
        "print(categorize_number(81))   # Expected output: \"Positive\"\n",
        "print(categorize_number(-9))   # Expected output: \"Negative\"\n",
        "print(categorize_number(0))    # Expected output: \"Zero\""
      ],
      "metadata": {
        "id": "dAAdJFAVgbtD"
      },
      "execution_count": null,
      "outputs": []
    },
    {
      "cell_type": "markdown",
      "source": [
        "\n",
        "\n",
        "---\n",
        "\n"
      ],
      "metadata": {
        "id": "kFQCkxgGApG_"
      }
    },
    {
      "cell_type": "markdown",
      "source": [
        "**Q9:** Complete the code\n"
      ],
      "metadata": {
        "id": "wbelN213Bt11"
      }
    },
    {
      "cell_type": "code",
      "source": [
        "# Define a function that sums numbers from 1 to n\n",
        "def sum_up_to(n):\n",
        "    total = 0\n",
        "    i = 1\n",
        "    while i <= n:\n",
        "        # Fill in the blank\n",
        "        total += ____\n",
        "        i += 1\n",
        "    return total\n"
      ],
      "metadata": {
        "id": "nMJVE7DGCCmV"
      },
      "execution_count": 29,
      "outputs": []
    },
    {
      "cell_type": "code",
      "source": [
        "# Test the function\n",
        "print(sum_up_to(5))  # Expected output: 15 (1+2+3+4+5)"
      ],
      "metadata": {
        "id": "WyBXBSNKg1ar"
      },
      "execution_count": null,
      "outputs": []
    },
    {
      "cell_type": "markdown",
      "source": [
        "\n",
        "\n",
        "---\n",
        "\n"
      ],
      "metadata": {
        "id": "C8cH_P87C8WU"
      }
    },
    {
      "cell_type": "markdown",
      "source": [
        "**Q10** Complete the code\n",
        "\n"
      ],
      "metadata": {
        "id": "97KSmofsCFTt"
      }
    },
    {
      "cell_type": "code",
      "source": [
        "# Define a function that finds the first number greater than n that is divisible by 7\n",
        "def find_divisible_by_seven(n):\n",
        "    current = n + 1\n",
        "    while True:\n",
        "        if current % 7 == 0:\n",
        "            # Fill in the blank\n",
        "            return _______\n",
        "        current += 1\n"
      ],
      "metadata": {
        "id": "cHiHDsNgj0oI"
      },
      "execution_count": 27,
      "outputs": []
    },
    {
      "cell_type": "code",
      "source": [
        "# Test the function\n",
        "print(find_divisible_by_seven(20))  # Expected output: 21"
      ],
      "metadata": {
        "id": "nA_DdsgnFoeg"
      },
      "execution_count": null,
      "outputs": []
    },
    {
      "cell_type": "markdown",
      "source": [
        "\n",
        "\n",
        "---\n",
        "\n",
        "\n",
        "\n",
        "---\n",
        "\n"
      ],
      "metadata": {
        "id": "mUlZil9XGmwY"
      }
    }
  ]
}