{
  "nbformat": 4,
  "nbformat_minor": 0,
  "metadata": {
    "colab": {
      "provenance": [],
      "include_colab_link": true
    },
    "kernelspec": {
      "name": "python3",
      "display_name": "Python 3"
    },
    "language_info": {
      "name": "python"
    }
  },
  "cells": [
    {
      "cell_type": "markdown",
      "metadata": {
        "id": "view-in-github",
        "colab_type": "text"
      },
      "source": [
        "<a href=\"https://colab.research.google.com/github/manoj-mathivanan/pythonML/blob/main/Jaro008_Exercise_20240728.ipynb\" target=\"_parent\"><img src=\"https://colab.research.google.com/assets/colab-badge.svg\" alt=\"Open In Colab\"/></a>"
      ]
    },
    {
      "cell_type": "markdown",
      "source": [
        "Please upload the completed assignment here:\n",
        "\n",
        "URL =  https://forms.gle/n6NDHJ7LCDLx7hHU7\n",
        "\n",
        "Please note that all submissions will receive a confirmation email.\n",
        "\n"
      ],
      "metadata": {
        "id": "XN6DTyuNKT9W"
      }
    },
    {
      "cell_type": "markdown",
      "source": [
        "\n",
        "\n",
        "---\n",
        "\n",
        "\n",
        "\n",
        "---\n",
        "\n"
      ],
      "metadata": {
        "id": "7Ap2bTVfKfqe"
      }
    },
    {
      "cell_type": "markdown",
      "source": [
        "# Based on Python's *rule of precedence*.\n",
        "\n"
      ],
      "metadata": {
        "id": "Nb1mU5gk3PwB"
      }
    },
    {
      "cell_type": "markdown",
      "source": [
        "**Q1:** Guess what should be outcome of the following expression. Then run the code and compare the two.\n"
      ],
      "metadata": {
        "id": "6_KS58nE209K"
      }
    },
    {
      "cell_type": "code",
      "source": [
        "(3 + 5) * 2 ** 2 / 4 - 1"
      ],
      "metadata": {
        "id": "DOrg2A-VH0XB",
        "outputId": "dbfadcf8-3144-4bd1-b442-49a49f60abe1",
        "colab": {
          "base_uri": "https://localhost:8080/"
        }
      },
      "execution_count": 1,
      "outputs": [
        {
          "output_type": "execute_result",
          "data": {
            "text/plain": [
              "7.0"
            ]
          },
          "metadata": {},
          "execution_count": 1
        }
      ]
    },
    {
      "cell_type": "markdown",
      "source": [
        "**Brief answer:**\n"
      ],
      "metadata": {
        "id": "LXUclpyALxY7"
      }
    },
    {
      "cell_type": "markdown",
      "source": [
        "7"
      ],
      "metadata": {
        "id": "mmF7JhTTrkVA"
      }
    },
    {
      "cell_type": "markdown",
      "source": [
        "\n",
        "\n",
        "---\n",
        "\n"
      ],
      "metadata": {
        "id": "iKpcVAtdPZzu"
      }
    },
    {
      "cell_type": "markdown",
      "source": [
        "**Q2:** Write your understanding on following 2 cases:\n",
        "\n",
        "\n"
      ],
      "metadata": {
        "id": "2RDiShcv1-sq"
      }
    },
    {
      "cell_type": "code",
      "source": [
        "# case A\n",
        "1/10*10"
      ],
      "metadata": {
        "id": "IdocgS8F19s8",
        "outputId": "ef11c952-53b7-4fd5-9b76-0be98826a64b",
        "colab": {
          "base_uri": "https://localhost:8080/"
        }
      },
      "execution_count": 2,
      "outputs": [
        {
          "output_type": "execute_result",
          "data": {
            "text/plain": [
              "1.0"
            ]
          },
          "metadata": {},
          "execution_count": 2
        }
      ]
    },
    {
      "cell_type": "markdown",
      "source": [
        "**Brief answer 2(A):** 1\n"
      ],
      "metadata": {
        "id": "DRbCydGSLtiC"
      }
    },
    {
      "cell_type": "code",
      "source": [
        "# case B\n",
        "1*10/10"
      ],
      "metadata": {
        "id": "n6jmDsWtCtlJ",
        "outputId": "9267327b-1622-4b75-8917-b61a2291622c",
        "colab": {
          "base_uri": "https://localhost:8080/"
        }
      },
      "execution_count": 3,
      "outputs": [
        {
          "output_type": "execute_result",
          "data": {
            "text/plain": [
              "1.0"
            ]
          },
          "metadata": {},
          "execution_count": 3
        }
      ]
    },
    {
      "cell_type": "markdown",
      "source": [
        "**Brief answer 2(B):** 1\n"
      ],
      "metadata": {
        "id": "rDbgT0efL37C"
      }
    },
    {
      "cell_type": "markdown",
      "source": [
        "\n",
        "\n",
        "---\n",
        "\n"
      ],
      "metadata": {
        "id": "TMlOR3P76v1F"
      }
    },
    {
      "cell_type": "markdown",
      "source": [
        "**Q3:** Define a function that takes two arguments and returns their sum\n",
        "\n"
      ],
      "metadata": {
        "id": "Z2l1n1zy34ed"
      }
    },
    {
      "cell_type": "code",
      "source": [
        "def add_numbers(a, b):\n",
        "    # Fill in the blank to return the sum of a and b\n",
        "    return a+b"
      ],
      "metadata": {
        "id": "RnIjFOoVNVvk"
      },
      "execution_count": 6,
      "outputs": []
    },
    {
      "cell_type": "code",
      "source": [
        "# Test the function\n",
        "print(add_numbers(5, 3))  # Expected output: 8"
      ],
      "metadata": {
        "id": "ndx6jk93Ngqz",
        "outputId": "df21f162-ace2-4252-fcab-c2d34484609e",
        "colab": {
          "base_uri": "https://localhost:8080/"
        }
      },
      "execution_count": 7,
      "outputs": [
        {
          "output_type": "stream",
          "name": "stdout",
          "text": [
            "8\n"
          ]
        }
      ]
    },
    {
      "cell_type": "markdown",
      "source": [
        "\n",
        "\n",
        "---\n",
        "\n"
      ],
      "metadata": {
        "id": "6nGFnNcMPX4O"
      }
    },
    {
      "cell_type": "markdown",
      "source": [
        "**Q4:** Complete the code\n"
      ],
      "metadata": {
        "id": "JppQxee-4Bbk"
      }
    },
    {
      "cell_type": "code",
      "source": [
        "# Define a nexted function that calculates the difference of two numbers\n",
        "def outer_function(x):\n",
        "  def inner_function(y):\n",
        "    return x - y\n",
        "  return inner_function # Fill in the blank"
      ],
      "metadata": {
        "id": "hA3DZF20NVAd"
      },
      "execution_count": 12,
      "outputs": []
    },
    {
      "cell_type": "code",
      "source": [
        "# Now test it\n",
        "outer_function(10)(5)  # Expected"
      ],
      "metadata": {
        "id": "9SPLa6loWbjq",
        "outputId": "a241b9ec-cdff-4fe5-efc8-0a82ab91e2a3",
        "colab": {
          "base_uri": "https://localhost:8080/"
        }
      },
      "execution_count": 13,
      "outputs": [
        {
          "output_type": "execute_result",
          "data": {
            "text/plain": [
              "5"
            ]
          },
          "metadata": {},
          "execution_count": 13
        }
      ]
    },
    {
      "cell_type": "markdown",
      "source": [
        "\n",
        "\n",
        "---\n",
        "\n"
      ],
      "metadata": {
        "id": "W7yYzobBW5t3"
      }
    },
    {
      "cell_type": "markdown",
      "source": [
        "**Q5:** Complete the code\n"
      ],
      "metadata": {
        "id": "Tbyl28Zd7aYc"
      }
    },
    {
      "cell_type": "code",
      "source": [
        "# Define a function that returns a list of squares of numbers up to n\n",
        "def squares_up_to(n):\n",
        "    result = []\n",
        "    for i in range(1, n + 1):\n",
        "        # Fill in the blank to append the square of i to result\n",
        "        result.append(pow(i,2))\n",
        "    return result"
      ],
      "metadata": {
        "id": "KhSDBa9t4B7U"
      },
      "execution_count": 19,
      "outputs": []
    },
    {
      "cell_type": "code",
      "source": [
        "# Test the function\n",
        "print(squares_up_to(4))  # Expected output: [1, 4, 9, 16]"
      ],
      "metadata": {
        "colab": {
          "base_uri": "https://localhost:8080/"
        },
        "id": "SficSIU5aos0",
        "outputId": "0e5fd241-ee7e-4361-96aa-1eddead22ceb"
      },
      "execution_count": 20,
      "outputs": [
        {
          "output_type": "stream",
          "name": "stdout",
          "text": [
            "[1, 4, 9, 16]\n"
          ]
        }
      ]
    },
    {
      "cell_type": "markdown",
      "source": [
        "\n",
        "\n",
        "---\n",
        "\n"
      ],
      "metadata": {
        "id": "XkYfZ4tZ9okw"
      }
    },
    {
      "cell_type": "markdown",
      "source": [
        "**Q6:** Complete the code"
      ],
      "metadata": {
        "id": "a6enIXDZ9p0Y"
      }
    },
    {
      "cell_type": "code",
      "source": [
        "# Define a function that prints all even numbers up to n\n",
        "def print_evens(n):\n",
        "    for i in range(n):\n",
        "        if i % 2 == 0:\n",
        "            # Fill in the blank\n",
        "            print(i)\n"
      ],
      "metadata": {
        "id": "Q_k9RWUp4DMM"
      },
      "execution_count": 21,
      "outputs": []
    },
    {
      "cell_type": "code",
      "source": [
        "# Test the function\n",
        "print_evens(10)  # Expected output: 0, 2, 4, 6, 8"
      ],
      "metadata": {
        "id": "9BBPnv0WfBsP",
        "outputId": "79a5327e-1706-4f35-9a8f-80aa5c476182",
        "colab": {
          "base_uri": "https://localhost:8080/"
        }
      },
      "execution_count": 22,
      "outputs": [
        {
          "output_type": "stream",
          "name": "stdout",
          "text": [
            "0\n",
            "2\n",
            "4\n",
            "6\n",
            "8\n"
          ]
        }
      ]
    },
    {
      "cell_type": "markdown",
      "source": [
        "\n",
        "\n",
        "---\n",
        "\n"
      ],
      "metadata": {
        "id": "ooSGHJBW_wtf"
      }
    },
    {
      "cell_type": "markdown",
      "source": [
        "**Q7:** Complete the code\n"
      ],
      "metadata": {
        "id": "CRhs1UrS_y-e"
      }
    },
    {
      "cell_type": "code",
      "source": [
        "# Define a function that checks if a number is positive or not\n",
        "def check_number(num):\n",
        "    if num > 0:\n",
        "        # Fill in the blank\n",
        "        return \"Positive\"\n",
        "    else:\n",
        "        # Fill in the blank\n",
        "        return \"Non-positive\"\n"
      ],
      "metadata": {
        "id": "sNlq4d43AVBf"
      },
      "execution_count": 23,
      "outputs": []
    },
    {
      "cell_type": "code",
      "source": [
        "# Test the function\n",
        "print(check_number(-5))  # Expected output: \"Non-positive\"\n",
        "print(check_number(7))   # Expected output: \"Positive\"\n",
        "print(check_number(0))   # Expected output: \"Positive\""
      ],
      "metadata": {
        "id": "_-EEXAYgAU8-",
        "outputId": "f6673a89-4b36-4aed-c4c1-9e966d88b278",
        "colab": {
          "base_uri": "https://localhost:8080/"
        }
      },
      "execution_count": 25,
      "outputs": [
        {
          "output_type": "stream",
          "name": "stdout",
          "text": [
            "Non-positive\n",
            "Positive\n",
            "Non-positive\n"
          ]
        }
      ]
    },
    {
      "cell_type": "markdown",
      "source": [
        "\n",
        "\n",
        "---\n",
        "\n"
      ],
      "metadata": {
        "id": "k188MUgsgEmd"
      }
    },
    {
      "cell_type": "markdown",
      "source": [
        "**Q8:** Complete the code\n"
      ],
      "metadata": {
        "id": "WWKHenQW4CZk"
      }
    },
    {
      "cell_type": "code",
      "source": [
        "# Define a function that categorizes a number\n",
        "def categorize_number(num):\n",
        "    if num > 0:\n",
        "        # Fill in the blank\n",
        "        return \"Positive\"\n",
        "    elif num < 0:\n",
        "        # Fill in the blank\n",
        "        return \"Negative\"\n",
        "    else:\n",
        "        # Fill in the blank\n",
        "        return \"Zero\"\n"
      ],
      "metadata": {
        "id": "2JtS1a3pBP2P"
      },
      "execution_count": 26,
      "outputs": []
    },
    {
      "cell_type": "code",
      "source": [
        "# Test the function\n",
        "print(categorize_number(81))   # Expected output: \"Positive\"\n",
        "print(categorize_number(-9))   # Expected output: \"Negative\"\n",
        "print(categorize_number(0))    # Expected output: \"Zero\""
      ],
      "metadata": {
        "id": "dAAdJFAVgbtD",
        "outputId": "4f9c1b40-0e08-4f78-b1f0-579ffbcb6081",
        "colab": {
          "base_uri": "https://localhost:8080/"
        }
      },
      "execution_count": 27,
      "outputs": [
        {
          "output_type": "stream",
          "name": "stdout",
          "text": [
            "Positive\n",
            "Negative\n",
            "Zero\n"
          ]
        }
      ]
    },
    {
      "cell_type": "markdown",
      "source": [
        "\n",
        "\n",
        "---\n",
        "\n"
      ],
      "metadata": {
        "id": "kFQCkxgGApG_"
      }
    },
    {
      "cell_type": "markdown",
      "source": [
        "**Q9:** Complete the code\n"
      ],
      "metadata": {
        "id": "wbelN213Bt11"
      }
    },
    {
      "cell_type": "code",
      "source": [
        "# Define a function that sums numbers from 1 to n\n",
        "def sum_up_to(n):\n",
        "    total = 0\n",
        "    i = 1\n",
        "    while i <= n:\n",
        "        # Fill in the blank\n",
        "        total = total + i\n",
        "        i += 1\n",
        "    return total\n"
      ],
      "metadata": {
        "id": "nMJVE7DGCCmV"
      },
      "execution_count": 46,
      "outputs": []
    },
    {
      "cell_type": "code",
      "source": [
        "# Test the function\n",
        "print(sum_up_to(5))  # Expected output: 15 (1+2+3+4+5)"
      ],
      "metadata": {
        "id": "WyBXBSNKg1ar",
        "outputId": "62f5929c-83f5-4a93-85ac-706a353d31e2",
        "colab": {
          "base_uri": "https://localhost:8080/"
        }
      },
      "execution_count": 47,
      "outputs": [
        {
          "output_type": "stream",
          "name": "stdout",
          "text": [
            "15\n"
          ]
        }
      ]
    },
    {
      "cell_type": "markdown",
      "source": [
        "\n",
        "\n",
        "---\n",
        "\n"
      ],
      "metadata": {
        "id": "C8cH_P87C8WU"
      }
    },
    {
      "cell_type": "markdown",
      "source": [
        "**Q10** Complete the code\n",
        "\n"
      ],
      "metadata": {
        "id": "97KSmofsCFTt"
      }
    },
    {
      "cell_type": "code",
      "source": [
        "# Define a function that finds the first number greater than n that is divisible by 7\n",
        "def find_divisible_by_seven(n):\n",
        "    current = n + 1\n",
        "    while True:\n",
        "        if current % 7 == 0:\n",
        "            # Fill in the blank\n",
        "            return current\n",
        "        current += 1\n"
      ],
      "metadata": {
        "id": "cHiHDsNgj0oI"
      },
      "execution_count": 48,
      "outputs": []
    },
    {
      "cell_type": "code",
      "source": [
        "# Test the function\n",
        "print(find_divisible_by_seven(20))  # Expected output: 21"
      ],
      "metadata": {
        "id": "nA_DdsgnFoeg",
        "outputId": "4e7cdcc3-1d3a-4f81-bd2e-3309828c24d9",
        "colab": {
          "base_uri": "https://localhost:8080/"
        }
      },
      "execution_count": 49,
      "outputs": [
        {
          "output_type": "stream",
          "name": "stdout",
          "text": [
            "21\n"
          ]
        }
      ]
    },
    {
      "cell_type": "markdown",
      "source": [
        "\n",
        "\n",
        "---\n",
        "\n",
        "\n",
        "\n",
        "---\n",
        "\n"
      ],
      "metadata": {
        "id": "mUlZil9XGmwY"
      }
    }
  ]
}